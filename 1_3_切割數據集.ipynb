{
  "nbformat": 4,
  "nbformat_minor": 0,
  "metadata": {
    "colab": {
      "provenance": [],
      "authorship_tag": "ABX9TyPeb0aVYxMh7xE63MVswSyI",
      "include_colab_link": true
    },
    "kernelspec": {
      "name": "python3",
      "display_name": "Python 3"
    },
    "language_info": {
      "name": "python"
    }
  },
  "cells": [
    {
      "cell_type": "markdown",
      "metadata": {
        "id": "view-in-github",
        "colab_type": "text"
      },
      "source": [
        "<a href=\"https://colab.research.google.com/github/weilipan/MachineLearing/blob/main/1_3_%E5%88%87%E5%89%B2%E6%95%B8%E6%93%9A%E9%9B%86.ipynb\" target=\"_parent\"><img src=\"https://colab.research.google.com/assets/colab-badge.svg\" alt=\"Open In Colab\"/></a>"
      ]
    },
    {
      "cell_type": "markdown",
      "source": [
        "# 1-3切割數據集\n",
        "## 1-3-1 訓練、驗證與測試集\n",
        "將數據集建構好模型再交由測試集評估其效能。\n",
        "1. 切割時的隨機性由設定亂數種子參數random_state來達成，固定這個參數將切割出同樣的訓練與測試集，可作為除錯與重製實驗使用。\n",
        "2. 設定訓練與測試集比例，一般來說會配置較大比例的數據做為訓練集，以便擬合出較佳的學習模型，常見拆分比例為80:20、70:30，對較大的數據集的拆分比例可到90:10或甚至99:1。透過test_size(或train_size)可以設定測試集的比例，預設值是0.25。\n",
        "3. 以分類問題而言，若訓練與測試集在各個類利的比率皆與整個數據集相近，對於模型的建構與評估都能有好的效能，這裡是透過指定目標項變數給參數stratify來達成。\n",
        "4. 一旦評估完成確定使用哪個模型之後，可再用整個數據集擬合出最終模型。"
      ],
      "metadata": {
        "id": "Ob5dvQNhg855"
      }
    },
    {
      "cell_type": "code",
      "source": [
        "#下載寶可夢檔案\n",
        "!wget pokemon.csv https://gist.githubusercontent.com/armgilles/194bcff35001e7eb53a2a8b441e8b2c6/raw/92200bc0a673d5ce2110aaad4544ed6c4010f687/pokemon.csv"
      ],
      "metadata": {
        "colab": {
          "base_uri": "https://localhost:8080/"
        },
        "id": "Sg4nFBToiyVl",
        "outputId": "6c31e8e0-5f9e-4690-f1a9-139691f8bd4e"
      },
      "execution_count": null,
      "outputs": [
        {
          "output_type": "stream",
          "name": "stdout",
          "text": [
            "--2023-03-31 06:53:17--  http://pokemon.csv/\n",
            "Resolving pokemon.csv (pokemon.csv)... failed: Name or service not known.\n",
            "wget: unable to resolve host address ‘pokemon.csv’\n",
            "--2023-03-31 06:53:17--  https://gist.githubusercontent.com/armgilles/194bcff35001e7eb53a2a8b441e8b2c6/raw/92200bc0a673d5ce2110aaad4544ed6c4010f687/pokemon.csv\n",
            "Resolving gist.githubusercontent.com (gist.githubusercontent.com)... 185.199.108.133, 185.199.109.133, 185.199.110.133, ...\n",
            "Connecting to gist.githubusercontent.com (gist.githubusercontent.com)|185.199.108.133|:443... connected.\n",
            "HTTP request sent, awaiting response... 200 OK\n",
            "Length: 44028 (43K) [text/plain]\n",
            "Saving to: ‘pokemon.csv.1’\n",
            "\n",
            "\rpokemon.csv.1         0%[                    ]       0  --.-KB/s               \rpokemon.csv.1       100%[===================>]  43.00K  --.-KB/s    in 0.01s   \n",
            "\n",
            "2023-03-31 06:53:17 (4.06 MB/s) - ‘pokemon.csv.1’ saved [44028/44028]\n",
            "\n",
            "FINISHED --2023-03-31 06:53:17--\n",
            "Total wall clock time: 0.2s\n",
            "Downloaded: 1 files, 43K in 0.01s (4.06 MB/s)\n"
          ]
        }
      ]
    },
    {
      "cell_type": "code",
      "execution_count": null,
      "metadata": {
        "id": "2C_9nrLFaroL",
        "colab": {
          "base_uri": "https://localhost:8080/",
          "height": 206
        },
        "outputId": "8856b712-e665-43b3-bddc-b73198813f4e"
      },
      "outputs": [
        {
          "output_type": "execute_result",
          "data": {
            "text/plain": [
              "           y  y_train  y_test\n",
              "Water    112       90      22\n",
              "Normal    98       78      20\n",
              "Grass     70       56      14\n",
              "Bug       69       55      14\n",
              "Psychic   57       45      12"
            ],
            "text/html": [
              "\n",
              "  <div id=\"df-16101435-e53a-4eff-b4ca-365e46294783\">\n",
              "    <div class=\"colab-df-container\">\n",
              "      <div>\n",
              "<style scoped>\n",
              "    .dataframe tbody tr th:only-of-type {\n",
              "        vertical-align: middle;\n",
              "    }\n",
              "\n",
              "    .dataframe tbody tr th {\n",
              "        vertical-align: top;\n",
              "    }\n",
              "\n",
              "    .dataframe thead th {\n",
              "        text-align: right;\n",
              "    }\n",
              "</style>\n",
              "<table border=\"1\" class=\"dataframe\">\n",
              "  <thead>\n",
              "    <tr style=\"text-align: right;\">\n",
              "      <th></th>\n",
              "      <th>y</th>\n",
              "      <th>y_train</th>\n",
              "      <th>y_test</th>\n",
              "    </tr>\n",
              "  </thead>\n",
              "  <tbody>\n",
              "    <tr>\n",
              "      <th>Water</th>\n",
              "      <td>112</td>\n",
              "      <td>90</td>\n",
              "      <td>22</td>\n",
              "    </tr>\n",
              "    <tr>\n",
              "      <th>Normal</th>\n",
              "      <td>98</td>\n",
              "      <td>78</td>\n",
              "      <td>20</td>\n",
              "    </tr>\n",
              "    <tr>\n",
              "      <th>Grass</th>\n",
              "      <td>70</td>\n",
              "      <td>56</td>\n",
              "      <td>14</td>\n",
              "    </tr>\n",
              "    <tr>\n",
              "      <th>Bug</th>\n",
              "      <td>69</td>\n",
              "      <td>55</td>\n",
              "      <td>14</td>\n",
              "    </tr>\n",
              "    <tr>\n",
              "      <th>Psychic</th>\n",
              "      <td>57</td>\n",
              "      <td>45</td>\n",
              "      <td>12</td>\n",
              "    </tr>\n",
              "  </tbody>\n",
              "</table>\n",
              "</div>\n",
              "      <button class=\"colab-df-convert\" onclick=\"convertToInteractive('df-16101435-e53a-4eff-b4ca-365e46294783')\"\n",
              "              title=\"Convert this dataframe to an interactive table.\"\n",
              "              style=\"display:none;\">\n",
              "        \n",
              "  <svg xmlns=\"http://www.w3.org/2000/svg\" height=\"24px\"viewBox=\"0 0 24 24\"\n",
              "       width=\"24px\">\n",
              "    <path d=\"M0 0h24v24H0V0z\" fill=\"none\"/>\n",
              "    <path d=\"M18.56 5.44l.94 2.06.94-2.06 2.06-.94-2.06-.94-.94-2.06-.94 2.06-2.06.94zm-11 1L8.5 8.5l.94-2.06 2.06-.94-2.06-.94L8.5 2.5l-.94 2.06-2.06.94zm10 10l.94 2.06.94-2.06 2.06-.94-2.06-.94-.94-2.06-.94 2.06-2.06.94z\"/><path d=\"M17.41 7.96l-1.37-1.37c-.4-.4-.92-.59-1.43-.59-.52 0-1.04.2-1.43.59L10.3 9.45l-7.72 7.72c-.78.78-.78 2.05 0 2.83L4 21.41c.39.39.9.59 1.41.59.51 0 1.02-.2 1.41-.59l7.78-7.78 2.81-2.81c.8-.78.8-2.07 0-2.86zM5.41 20L4 18.59l7.72-7.72 1.47 1.35L5.41 20z\"/>\n",
              "  </svg>\n",
              "      </button>\n",
              "      \n",
              "  <style>\n",
              "    .colab-df-container {\n",
              "      display:flex;\n",
              "      flex-wrap:wrap;\n",
              "      gap: 12px;\n",
              "    }\n",
              "\n",
              "    .colab-df-convert {\n",
              "      background-color: #E8F0FE;\n",
              "      border: none;\n",
              "      border-radius: 50%;\n",
              "      cursor: pointer;\n",
              "      display: none;\n",
              "      fill: #1967D2;\n",
              "      height: 32px;\n",
              "      padding: 0 0 0 0;\n",
              "      width: 32px;\n",
              "    }\n",
              "\n",
              "    .colab-df-convert:hover {\n",
              "      background-color: #E2EBFA;\n",
              "      box-shadow: 0px 1px 2px rgba(60, 64, 67, 0.3), 0px 1px 3px 1px rgba(60, 64, 67, 0.15);\n",
              "      fill: #174EA6;\n",
              "    }\n",
              "\n",
              "    [theme=dark] .colab-df-convert {\n",
              "      background-color: #3B4455;\n",
              "      fill: #D2E3FC;\n",
              "    }\n",
              "\n",
              "    [theme=dark] .colab-df-convert:hover {\n",
              "      background-color: #434B5C;\n",
              "      box-shadow: 0px 1px 3px 1px rgba(0, 0, 0, 0.15);\n",
              "      filter: drop-shadow(0px 1px 2px rgba(0, 0, 0, 0.3));\n",
              "      fill: #FFFFFF;\n",
              "    }\n",
              "  </style>\n",
              "\n",
              "      <script>\n",
              "        const buttonEl =\n",
              "          document.querySelector('#df-16101435-e53a-4eff-b4ca-365e46294783 button.colab-df-convert');\n",
              "        buttonEl.style.display =\n",
              "          google.colab.kernel.accessAllowed ? 'block' : 'none';\n",
              "\n",
              "        async function convertToInteractive(key) {\n",
              "          const element = document.querySelector('#df-16101435-e53a-4eff-b4ca-365e46294783');\n",
              "          const dataTable =\n",
              "            await google.colab.kernel.invokeFunction('convertToInteractive',\n",
              "                                                     [key], {});\n",
              "          if (!dataTable) return;\n",
              "\n",
              "          const docLinkHtml = 'Like what you see? Visit the ' +\n",
              "            '<a target=\"_blank\" href=https://colab.research.google.com/notebooks/data_table.ipynb>data table notebook</a>'\n",
              "            + ' to learn more about interactive tables.';\n",
              "          element.innerHTML = '';\n",
              "          dataTable['output_type'] = 'display_data';\n",
              "          await google.colab.output.renderOutput(dataTable, element);\n",
              "          const docLink = document.createElement('div');\n",
              "          docLink.innerHTML = docLinkHtml;\n",
              "          element.appendChild(docLink);\n",
              "        }\n",
              "      </script>\n",
              "    </div>\n",
              "  </div>\n",
              "  "
            ]
          },
          "metadata": {},
          "execution_count": 10
        }
      ],
      "source": [
        "import pandas as pd\n",
        "from sklearn.model_selection import train_test_split\n",
        "df=pd.read_csv('pokemon.csv')\n",
        "X=df.loc[:,'HP':'Speed'] #特徵\n",
        "y=df['Type 1']\n",
        "# 切割數據集，其中80%用以訓練，20%用以測試\n",
        "X_train,X_test,y_train,y_test=train_test_split(X,y,test_size=0.2,\n",
        "                                               random_state=42,\n",
        "                                               stratify=y)\n",
        "# 觀看數據集、訓練與測試集的類別比例\n",
        "df_count=pd.concat([y.value_counts(),\n",
        "                    y_train.value_counts(),\n",
        "                    y_test.value_counts()],axis=1)\n",
        "df_count.columns=['y','y_train','y_test']\n",
        "df_count.head()\n"
      ]
    },
    {
      "cell_type": "markdown",
      "source": [
        "## 1-3-2 k次交叉驗證\n",
        "「交叉驗證」(cross-validation)是比單純使用訓練與測試集來評估效能更穩定的方法，作法是將訓練集均分為k等分，k是使用者給定的值，通常為5或10，而不同的均分方式延伸出不同的交叉驗證方法，其中最基本的是「k次交叉驗證」(k-fold cross-validation)"
      ],
      "metadata": {
        "id": "fUrWCS5FXvLs"
      }
    },
    {
      "cell_type": "code",
      "source": [
        "X=df.loc[:,'HP':'Speed']\n",
        "y=df['Legendary'] #目標改為判斷是否為神獸\n",
        "X_train,X_test,y_train,y_test=train_test_split(X,y,test_size=0.2,random_state=42,stratify=y)\n",
        "from sklearn.neighbors import KNeighborsClassifier\n",
        "from sklearn.model_selection import StratifiedKFold\n",
        "import numpy as np\n",
        "#分層k次\n",
        "kfold=StratifiedKFold(n_splits=10,shuffle=True,random_state=42).split(X_train,y_train)\n",
        "score_lst=[]#紀錄k次交叉驗證的正確率\n",
        "\n",
        "for k,(i_train,i_valid) in enumerate(kfold):\n",
        "  #初始化kNN分類器\n",
        "  knn=KNeighborsClassifier(n_neighbors=2)\n",
        "  knn.fit(X_train.iloc[i_train,:],\n",
        "          y_train.iloc[i_train])\n",
        "  # 以驗證集評估正確率\n",
        "  score=knn.score(X_train.iloc[i_valid,:],\n",
        "                  y_train.iloc[i_valid])\n",
        "  score_lst.append(score)\n",
        "  print(f'{k+1}-Fold:Acc={score:.2f}')\n",
        "\n",
        "print(f'\\n10-fold CV accuracy={np.mean(score_lst):.3f},std={np.std(score_lst):.3f}')\n"
      ],
      "metadata": {
        "colab": {
          "base_uri": "https://localhost:8080/"
        },
        "id": "WKEdJ3pDXLRO",
        "outputId": "08df668f-f874-477d-8536-ba58cc92ebbf"
      },
      "execution_count": null,
      "outputs": [
        {
          "output_type": "stream",
          "name": "stdout",
          "text": [
            "1-Fold:Acc=0.94\n",
            "2-Fold:Acc=0.95\n",
            "3-Fold:Acc=0.94\n",
            "4-Fold:Acc=0.97\n",
            "5-Fold:Acc=0.94\n",
            "6-Fold:Acc=0.94\n",
            "7-Fold:Acc=0.94\n",
            "8-Fold:Acc=0.97\n",
            "9-Fold:Acc=0.94\n",
            "10-Fold:Acc=0.91\n",
            "\n",
            "10-fold CV accuracy=0.942,std=0.017\n"
          ]
        }
      ]
    },
    {
      "cell_type": "code",
      "source": [
        "# scikit-learn提供計分器cross_val_score()以簡潔的方式評估模型。\n",
        "# 這個計分器還能將不同次的評估分散到多個CPU核心進行平行運算，\n",
        "# 而參數n_jobs則決定要用多少核心數進行運算，設定為-1是使用所有CPU核心來進行。\n",
        "from sklearn.model_selection import cross_val_score\n",
        "\n",
        "knn=KNeighborsClassifier(n_neighbors=2)\n",
        "score_lst=cross_val_score(estimator=knn,X=X_train,y=y_train,cv=10,n_jobs=-1)\n",
        "print(f'10-fold CV accuracy scores\\n {score_lst}')\n",
        "print(f'\\n10-fold CV accuracy = {np.mean(score_lst):.3f}, std={np.std(score_lst):.3f}')"
      ],
      "metadata": {
        "colab": {
          "base_uri": "https://localhost:8080/"
        },
        "id": "9M2EUR-rbkM8",
        "outputId": "86a2fceb-0ee1-435d-d9bb-517992e52e13"
      },
      "execution_count": null,
      "outputs": [
        {
          "output_type": "stream",
          "name": "stdout",
          "text": [
            "10-fold CV accuracy scores\n",
            " [0.96875  0.9375   0.953125 0.9375   0.984375 0.921875 0.953125 0.921875\n",
            " 0.921875 0.921875]\n",
            "\n",
            "10-fold CV accuracy = 0.942, std=0.021\n"
          ]
        }
      ]
    },
    {
      "cell_type": "code",
      "source": [],
      "metadata": {
        "id": "MEnytvxedQrE"
      },
      "execution_count": null,
      "outputs": []
    }
  ]
}