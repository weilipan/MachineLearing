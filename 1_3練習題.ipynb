{
  "nbformat": 4,
  "nbformat_minor": 0,
  "metadata": {
    "colab": {
      "provenance": [],
      "authorship_tag": "ABX9TyN/8k07f8Q1nJekvQrpKR5k",
      "include_colab_link": true
    },
    "kernelspec": {
      "name": "python3",
      "display_name": "Python 3"
    },
    "language_info": {
      "name": "python"
    }
  },
  "cells": [
    {
      "cell_type": "markdown",
      "metadata": {
        "id": "view-in-github",
        "colab_type": "text"
      },
      "source": [
        "<a href=\"https://colab.research.google.com/github/weilipan/MachineLearing/blob/main/1_3%E7%B7%B4%E7%BF%92%E9%A1%8C.ipynb\" target=\"_parent\"><img src=\"https://colab.research.google.com/assets/colab-badge.svg\" alt=\"Open In Colab\"/></a>"
      ]
    },
    {
      "cell_type": "markdown",
      "source": [
        "#練習題一\n",
        "\n",
        "1. 下載pokemon檔案。\n",
        "```\n",
        "#下載寶可夢檔案\n",
        "!wget pokemon.csv https://gist.githubusercontent.com/armgilles/194bcff35001e7eb53a2a8b441e8b2c6/raw/92200bc0a673d5ce2110aaad4544ed6c4010f687/pokemon.csv\n",
        "```\n",
        "2. 針對HP,Attack,...,Speed欄位，繪製箱型圖。  \n",
        "3. 針對Attack,Defense欄位繪製散點圖，並找出「攻防一體皆強」的pokemon。  \n",
        "4. 找出Type 1=Fire的pokemon的HP平均值。  \n",
        "5. 找出Type 1所有屬性pokemon的HP平均最高、最低值。  \n",
        "6.選出Attack最高前五名的pokemon。  \n",
        "7.選出Attack、Defense同時為前20名的pokemon。"
      ],
      "metadata": {
        "id": "jKWkzzHw67c0"
      }
    },
    {
      "cell_type": "code",
      "execution_count": 3,
      "metadata": {
        "id": "K5FCzdRR6vHU",
        "colab": {
          "base_uri": "https://localhost:8080/"
        },
        "outputId": "b2f27b10-4d13-4c98-b858-669a3638a1f1"
      },
      "outputs": [
        {
          "output_type": "stream",
          "name": "stdout",
          "text": [
            "--2023-03-27 05:17:54--  http://pokemon.csv/\n",
            "Resolving pokemon.csv (pokemon.csv)... failed: Name or service not known.\n",
            "wget: unable to resolve host address ‘pokemon.csv’\n",
            "--2023-03-27 05:17:54--  https://gist.githubusercontent.com/armgilles/194bcff35001e7eb53a2a8b441e8b2c6/raw/92200bc0a673d5ce2110aaad4544ed6c4010f687/pokemon.csv\n",
            "Resolving gist.githubusercontent.com (gist.githubusercontent.com)... 185.199.108.133, 185.199.109.133, 185.199.110.133, ...\n",
            "Connecting to gist.githubusercontent.com (gist.githubusercontent.com)|185.199.108.133|:443... connected.\n",
            "HTTP request sent, awaiting response... 200 OK\n",
            "Length: 44028 (43K) [text/plain]\n",
            "Saving to: ‘pokemon.csv’\n",
            "\n",
            "\rpokemon.csv           0%[                    ]       0  --.-KB/s               \rpokemon.csv         100%[===================>]  43.00K  --.-KB/s    in 0.01s   \n",
            "\n",
            "2023-03-27 05:17:54 (3.90 MB/s) - ‘pokemon.csv’ saved [44028/44028]\n",
            "\n",
            "FINISHED --2023-03-27 05:17:54--\n",
            "Total wall clock time: 0.2s\n",
            "Downloaded: 1 files, 43K in 0.01s (3.90 MB/s)\n"
          ]
        }
      ],
      "source": [
        "!wget pokemon.csv https://gist.githubusercontent.com/armgilles/194bcff35001e7eb53a2a8b441e8b2c6/raw/92200bc0a673d5ce2110aaad4544ed6c4010f687/pokemon.csv"
      ]
    },
    {
      "cell_type": "code",
      "source": [
        "# 針對HP,Attack,...,Speed欄位，繪製箱型圖。\n",
        "import pandas as pd\n",
        "import numpy as np\n",
        "import matplotlib.pyplot as plt\n",
        "df=pd.read_csv('pokemon.csv')\n",
        "plt.boxplot(df['HP'])\n",
        "plt.ylabel('HP')\n",
        "plt.title('HP of Pokemon')\n",
        "plt.show()"
      ],
      "metadata": {
        "colab": {
          "base_uri": "https://localhost:8080/",
          "height": 281
        },
        "id": "pzrWPsShYWTh",
        "outputId": "5ee91c62-f78d-488a-c7c5-d25f587b85b9"
      },
      "execution_count": null,
      "outputs": [
        {
          "output_type": "display_data",
          "data": {
            "text/plain": [
              "<Figure size 432x288 with 1 Axes>"
            ],
            "image/png": "[encoded data removed]"
          },
          "metadata": {
            "needs_background": "light"
          }
        }
      ]
    },
    {
      "cell_type": "code",
      "source": [
        "# 針對HP,Attack,...,Speed欄位，繪製箱型圖。\n",
        "import pandas as pd\n",
        "import numpy as np\n",
        "import plotly.express as px\n",
        "df=pd.read_csv('pokemon.csv')\n",
        "fig=px.box(df,y='HP',x='Type 1') #用Type 1分類\n",
        "fig.show()"
      ],
      "metadata": {
        "colab": {
          "base_uri": "https://localhost:8080/",
          "height": 542
        },
        "id": "jsIEAw1tkt1q",
        "outputId": "aa3580d2-7df2-4a68-ca46-f6f037ba52c9"
      },
      "execution_count": null,
      "outputs": [
        {
          "output_type": "display_data",
          "data": {
            "text/html": [
              "<html>\n",
              "<head><meta charset=\"utf-8\" /></head>\n",
              "<body>\n",
              "    <div>            <script src=\"https://cdnjs.cloudflare.com/ajax/libs/mathjax/2.7.5/MathJax.js?config=TeX-AMS-MML_SVG\"></script><script type=\"text/javascript\">if (window.MathJax && window.MathJax.Hub && window.MathJax.Hub.Config) {window.MathJax.Hub.Config({SVG: {font: \"STIX-Web\"}});}</script>                <script type=\"text/javascript\">window.PlotlyConfig = {MathJaxConfig: 'local'};</script>\n",
              "        <script src=\"https://cdn.plot.ly/plotly-2.18.2.min.js\"></script>                <div id=\"656d580f-ddbf-4288-a91e-faae72146fdd\" class=\"plotly-graph-div\" style=\"height:525px; width:100%;\"></div>            <script type=\"text/javascript\">                                    window.PLOTLYENV=window.PLOTLYENV || {};                                    if (document.getElementById(\"656d580f-ddbf-4288-a91e-faae72146fdd\")) {                    Plotly.newPlot(                        \"656d580f-ddbf-4288-a91e-faae72146fdd\",                        [{\"alignmentgroup\":\"True\",\"hovertemplate\":\"Type 1=%{x}<br>HP=%{y}<extra></extra>\",\"legendgroup\":\"\",\"marker\":{\"color\":\"#636efa\"},\"name\":\"\",\"notched\":false,\"offsetgroup\":\"\",\"orientation\":\"v\",\"showlegend\":false,\"x\":[\"Grass\",\"Grass\",\"Grass\",\"Grass\",\"Fire\",\"Fire\",\"Fire\",\"Fire\",\"Fire\",\"Water\",\"Water\",\"Water\",\"Water\",\"Bug\",\"Bug\",\"Bug\",\"Bug\",\"Bug\",\"Bug\",\"Bug\",\"Normal\",\"Normal\",\"Normal\",\"Normal\",\"Normal\",\"Normal\",\"Normal\",\"Normal\",\"Poison\",\"Poison\",\"Electric\",\"Electric\",\"Ground\",\"Ground\",\"Poison\",\"Poison\",\"Poison\",\"Poison\",\"Poison\",\"Poison\",\"Fairy\",\"Fairy\",\"Fire\",\"Fire\",\"Normal\",\"Normal\",\"Poison\",\"Poison\",\"Grass\",\"Grass\",\"Grass\",\"Bug\",\"Bug\",\"Bug\",\"Bug\",\"Ground\",\"Ground\",\"Normal\",\"Normal\",\"Water\",\"Water\",\"Fighting\",\"Fighting\",\"Fire\",\"Fire\",\"Water\",\"Water\",\"Water\",\"Psychic\",\"Psychic\",\"Psychic\",\"Psychic\",\"Fighting\",\"Fighting\",\"Fighting\",\"Grass\",\"Grass\",\"Grass\",\"Water\",\"Water\",\"Rock\",\"Rock\",\"Rock\",\"Fire\",\"Fire\",\"Water\",\"Water\",\"Water\",\"Electric\",\"Electric\",\"Normal\",\"Normal\",\"Normal\",\"Water\",\"Water\",\"Poison\",\"Poison\",\"Water\",\"Water\",\"Ghost\",\"Ghost\",\"Ghost\",\"Ghost\",\"Rock\",\"Psychic\",\"Psychic\",\"Water\",\"Water\",\"Electric\",\"Electric\",\"Grass\",\"Grass\",\"Ground\",\"Ground\",\"Fighting\",\"Fighting\",\"Normal\",\"Poison\",\"Poison\",\"Ground\",\"Ground\",\"Normal\",\"Grass\",\"Normal\",\"Normal\",\"Water\",\"Water\",\"Water\",\"Water\",\"Water\",\"Water\",\"Psychic\",\"Bug\",\"Ice\",\"Electric\",\"Fire\",\"Bug\",\"Bug\",\"Normal\",\"Water\",\"Water\",\"Water\",\"Water\",\"Normal\",\"Normal\",\"Water\",\"Electric\",\"Fire\",\"Normal\",\"Rock\",\"Rock\",\"Rock\",\"Rock\",\"Rock\",\"Rock\",\"Normal\",\"Ice\",\"Electric\",\"Fire\",\"Dragon\",\"Dragon\",\"Dragon\",\"Psychic\",\"Psychic\",\"Psychic\",\"Psychic\",\"Grass\",\"Grass\",\"Grass\",\"Fire\",\"Fire\",\"Fire\",\"Water\",\"Water\",\"Water\",\"Normal\",\"Normal\",\"Normal\",\"Normal\",\"Bug\",\"Bug\",\"Bug\",\"Bug\",\"Poison\",\"Water\",\"Water\",\"Electric\",\"Fairy\",\"Normal\",\"Fairy\",\"Fairy\",\"Psychic\",\"Psychic\",\"Electric\",\"Electric\",\"Electric\",\"Electric\",\"Grass\",\"Water\",\"Water\",\"Rock\",\"Water\",\"Grass\",\"Grass\",\"Grass\",\"Normal\",\"Grass\",\"Grass\",\"Bug\",\"Water\",\"Water\",\"Psychic\",\"Dark\",\"Dark\",\"Water\",\"Ghost\",\"Psychic\",\"Psychic\",\"Normal\",\"Bug\",\"Bug\",\"Normal\",\"Ground\",\"Steel\",\"Steel\",\"Fairy\",\"Fairy\",\"Water\",\"Bug\",\"Bug\",\"Bug\",\"Bug\",\"Bug\",\"Dark\",\"Normal\",\"Normal\",\"Fire\",\"Fire\",\"Ice\",\"Ice\",\"Water\",\"Water\",\"Water\",\"Ice\",\"Water\",\"Steel\",\"Dark\",\"Dark\",\"Dark\",\"Water\",\"Ground\",\"Ground\",\"Normal\",\"Normal\",\"Normal\",\"Fighting\",\"Fighting\",\"Ice\",\"Electric\",\"Fire\",\"Normal\",\"Normal\",\"Electric\",\"Fire\",\"Water\",\"Rock\",\"Rock\",\"Rock\",\"Rock\",\"Psychic\",\"Fire\",\"Psychic\",\"Grass\",\"Grass\",\"Grass\",\"Grass\",\"Fire\",\"Fire\",\"Fire\",\"Fire\",\"Water\",\"Water\",\"Water\",\"Water\",\"Dark\",\"Dark\",\"Normal\",\"Normal\",\"Bug\",\"Bug\",\"Bug\",\"Bug\",\"Bug\",\"Water\",\"Water\",\"Water\",\"Grass\",\"Grass\",\"Grass\",\"Normal\",\"Normal\",\"Water\",\"Water\",\"Psychic\",\"Psychic\",\"Psychic\",\"Psychic\",\"Bug\",\"Bug\",\"Grass\",\"Grass\",\"Normal\",\"Normal\",\"Normal\",\"Bug\",\"Bug\",\"Bug\",\"Normal\",\"Normal\",\"Normal\",\"Fighting\",\"Fighting\",\"Normal\",\"Rock\",\"Normal\",\"Normal\",\"Dark\",\"Dark\",\"Steel\",\"Steel\",\"Steel\",\"Steel\",\"Steel\",\"Steel\",\"Fighting\",\"Fighting\",\"Fighting\",\"Electric\",\"Electric\",\"Electric\",\"Electric\",\"Electric\",\"Bug\",\"Bug\",\"Grass\",\"Poison\",\"Poison\",\"Water\",\"Water\",\"Water\",\"Water\",\"Water\",\"Fire\",\"Fire\",\"Fire\",\"Fire\",\"Psychic\",\"Psychic\",\"Normal\",\"Ground\",\"Ground\",\"Ground\",\"Grass\",\"Grass\",\"Normal\",\"Dragon\",\"Dragon\",\"Normal\",\"Poison\",\"Rock\",\"Rock\",\"Water\",\"Water\",\"Water\",\"Water\",\"Ground\",\"Ground\",\"Rock\",\"Rock\",\"Rock\",\"Rock\",\"Water\",\"Water\",\"Normal\",\"Normal\",\"Ghost\",\"Ghost\",\"Ghost\",\"Ghost\",\"Ghost\",\"Grass\",\"Psychic\",\"Dark\",\"Dark\",\"Psychic\",\"Ice\",\"Ice\",\"Ice\",\"Ice\",\"Ice\",\"Ice\",\"Water\",\"Water\",\"Water\",\"Water\",\"Water\",\"Dragon\",\"Dragon\",\"Dragon\",\"Dragon\",\"Steel\",\"Steel\",\"Steel\",\"Steel\",\"Rock\",\"Ice\",\"Steel\",\"Dragon\",\"Dragon\",\"Dragon\",\"Dragon\",\"Water\",\"Water\",\"Ground\",\"Ground\",\"Dragon\",\"Dragon\",\"Steel\",\"Psychic\",\"Psychic\",\"Psychic\",\"Psychic\",\"Grass\",\"Grass\",\"Grass\",\"Fire\",\"Fire\",\"Fire\",\"Water\",\"Water\",\"Water\",\"Normal\",\"Normal\",\"Normal\",\"Normal\",\"Normal\",\"Bug\",\"Bug\",\"Electric\",\"Electric\",\"Electric\",\"Grass\",\"Grass\",\"Rock\",\"Rock\",\"Rock\",\"Rock\",\"Bug\",\"Bug\",\"Bug\",\"Bug\",\"Bug\",\"Bug\",\"Bug\",\"Electric\",\"Water\",\"Water\",\"Grass\",\"Grass\",\"Water\",\"Water\",\"Normal\",\"Ghost\",\"Ghost\",\"Normal\",\"Normal\",\"Normal\",\"Ghost\",\"Dark\",\"Normal\",\"Normal\",\"Psychic\",\"Poison\",\"Poison\",\"Steel\",\"Steel\",\"Rock\",\"Psychic\",\"Normal\",\"Normal\",\"Ghost\",\"Dragon\",\"Dragon\",\"Dragon\",\"Dragon\",\"Normal\",\"Fighting\",\"Fighting\",\"Fighting\",\"Ground\",\"Ground\",\"Poison\",\"Poison\",\"Poison\",\"Poison\",\"Grass\",\"Water\",\"Water\",\"Water\",\"Grass\",\"Grass\",\"Grass\",\"Dark\",\"Electric\",\"Normal\",\"Ground\",\"Grass\",\"Electric\",\"Fire\",\"Fairy\",\"Bug\",\"Grass\",\"Ice\",\"Ground\",\"Ice\",\"Normal\",\"Psychic\",\"Psychic\",\"Rock\",\"Ghost\",\"Ice\",\"Electric\",\"Electric\",\"Electric\",\"Electric\",\"Electric\",\"Electric\",\"Psychic\",\"Psychic\",\"Psychic\",\"Steel\",\"Water\",\"Fire\",\"Normal\",\"Ghost\",\"Ghost\",\"Psychic\",\"Water\",\"Water\",\"Dark\",\"Grass\",\"Grass\",\"Normal\",\"Psychic\",\"Grass\",\"Grass\",\"Grass\",\"Fire\",\"Fire\",\"Fire\",\"Water\",\"Water\",\"Water\",\"Normal\",\"Normal\",\"Normal\",\"Normal\",\"Normal\",\"Dark\",\"Dark\",\"Grass\",\"Grass\",\"Fire\",\"Fire\",\"Water\",\"Water\",\"Psychic\",\"Psychic\",\"Normal\",\"Normal\",\"Normal\",\"Electric\",\"Electric\",\"Rock\",\"Rock\",\"Rock\",\"Psychic\",\"Psychic\",\"Ground\",\"Ground\",\"Normal\",\"Normal\",\"Fighting\",\"Fighting\",\"Fighting\",\"Water\",\"Water\",\"Water\",\"Fighting\",\"Fighting\",\"Bug\",\"Bug\",\"Bug\",\"Bug\",\"Bug\",\"Bug\",\"Grass\",\"Grass\",\"Grass\",\"Grass\",\"Water\",\"Ground\",\"Ground\",\"Ground\",\"Fire\",\"Fire\",\"Fire\",\"Grass\",\"Bug\",\"Bug\",\"Dark\",\"Dark\",\"Psychic\",\"Ghost\",\"Ghost\",\"Water\",\"Water\",\"Rock\",\"Rock\",\"Poison\",\"Poison\",\"Dark\",\"Dark\",\"Normal\",\"Normal\",\"Psychic\",\"Psychic\",\"Psychic\",\"Psychic\",\"Psychic\",\"Psychic\",\"Water\",\"Water\",\"Ice\",\"Ice\",\"Ice\",\"Normal\",\"Normal\",\"Electric\",\"Bug\",\"Bug\",\"Grass\",\"Grass\",\"Water\",\"Water\",\"Water\",\"Bug\",\"Bug\",\"Grass\",\"Grass\",\"Steel\",\"Steel\",\"Steel\",\"Electric\",\"Electric\",\"Electric\",\"Psychic\",\"Psychic\",\"Ghost\",\"Ghost\",\"Ghost\",\"Dragon\",\"Dragon\",\"Dragon\",\"Ice\",\"Ice\",\"Ice\",\"Bug\",\"Bug\",\"Ground\",\"Fighting\",\"Fighting\",\"Dragon\",\"Ground\",\"Ground\",\"Dark\",\"Dark\",\"Normal\",\"Normal\",\"Normal\",\"Dark\",\"Dark\",\"Fire\",\"Bug\",\"Dark\",\"Dark\",\"Dark\",\"Bug\",\"Bug\",\"Steel\",\"Rock\",\"Grass\",\"Flying\",\"Flying\",\"Electric\",\"Electric\",\"Dragon\",\"Dragon\",\"Ground\",\"Ground\",\"Dragon\",\"Dragon\",\"Dragon\",\"Water\",\"Water\",\"Normal\",\"Normal\",\"Bug\",\"Grass\",\"Grass\",\"Grass\",\"Fire\",\"Fire\",\"Fire\",\"Water\",\"Water\",\"Water\",\"Normal\",\"Normal\",\"Normal\",\"Fire\",\"Fire\",\"Bug\",\"Bug\",\"Bug\",\"Fire\",\"Fire\",\"Fairy\",\"Fairy\",\"Fairy\",\"Grass\",\"Grass\",\"Fighting\",\"Fighting\",\"Normal\",\"Psychic\",\"Psychic\",\"Psychic\",\"Steel\",\"Steel\",\"Steel\",\"Steel\",\"Fairy\",\"Fairy\",\"Fairy\",\"Fairy\",\"Dark\",\"Dark\",\"Rock\",\"Rock\",\"Poison\",\"Poison\",\"Water\",\"Water\",\"Electric\",\"Electric\",\"Rock\",\"Rock\",\"Rock\",\"Rock\",\"Fairy\",\"Fighting\",\"Electric\",\"Rock\",\"Dragon\",\"Dragon\",\"Dragon\",\"Steel\",\"Ghost\",\"Ghost\",\"Ghost\",\"Ghost\",\"Ghost\",\"Ghost\",\"Ghost\",\"Ghost\",\"Ghost\",\"Ghost\",\"Ice\",\"Ice\",\"Flying\",\"Flying\",\"Fairy\",\"Dark\",\"Dragon\",\"Rock\",\"Rock\",\"Psychic\",\"Psychic\",\"Fire\"],\"x0\":\" \",\"xaxis\":\"x\",\"y\":[45,60,80,80,39,58,78,78,78,44,59,79,79,45,50,60,40,45,65,65,40,63,83,83,30,55,40,65,35,60,35,60,50,75,55,70,90,46,61,81,70,95,38,73,115,140,40,75,45,60,75,35,60,60,70,10,35,40,65,50,80,40,65,55,90,40,65,90,25,40,55,55,70,80,90,50,65,80,40,80,40,55,80,50,65,90,95,95,25,50,52,35,60,65,90,80,105,30,50,30,45,60,60,35,60,85,30,55,40,60,60,95,50,60,50,50,90,40,65,80,105,250,65,105,105,30,55,45,80,30,60,40,70,65,65,65,65,65,75,20,95,95,130,48,55,130,65,65,65,35,70,30,60,80,80,160,90,90,90,41,61,91,106,106,106,100,45,60,80,39,58,78,50,65,85,35,85,60,100,40,55,40,70,85,75,125,20,50,90,35,55,40,65,55,70,90,90,75,70,100,70,90,35,55,75,55,30,75,65,55,95,65,95,60,95,60,48,190,70,50,75,100,65,75,75,60,90,65,70,70,20,80,80,55,60,90,40,50,50,100,55,35,75,45,65,65,45,75,75,75,90,90,85,73,55,35,50,45,45,45,95,255,90,115,100,50,70,100,100,106,106,100,40,50,70,70,45,60,80,80,50,70,100,100,35,70,38,78,45,50,60,50,60,40,60,80,40,70,90,40,60,40,60,28,38,68,68,40,70,60,60,60,80,150,31,61,1,64,84,104,72,144,50,30,50,70,50,50,50,50,50,60,70,70,30,60,60,40,70,70,60,60,65,65,50,70,100,45,70,70,130,170,60,70,70,70,60,80,60,45,50,80,50,70,45,75,75,73,73,70,70,50,110,43,63,40,60,66,86,45,75,20,95,70,60,44,64,64,20,40,99,65,65,65,95,50,80,80,70,90,110,35,55,55,100,43,45,65,95,95,40,60,80,80,80,80,80,80,80,80,80,100,100,100,100,105,105,100,50,50,50,50,55,75,95,44,64,76,53,64,84,40,55,85,59,79,37,77,45,60,80,40,60,67,97,30,60,40,60,60,60,70,30,70,60,55,85,45,70,76,111,75,90,150,55,65,65,60,100,49,71,45,63,103,57,67,50,20,100,76,50,58,68,108,108,135,40,70,70,68,108,40,70,48,83,74,49,69,45,60,90,90,70,70,110,115,100,75,75,85,86,65,65,75,110,85,68,68,60,45,70,50,50,50,50,50,50,75,80,75,100,90,91,110,150,150,120,80,100,70,100,100,120,100,45,60,75,65,90,110,55,75,95,45,60,45,65,85,41,64,50,75,50,75,50,75,76,116,50,62,80,45,75,55,70,85,55,67,60,110,103,103,75,85,105,50,75,105,120,75,45,55,75,30,40,60,40,60,45,70,70,50,60,95,70,105,105,75,50,70,50,65,72,38,58,54,74,55,75,50,80,40,60,55,75,45,60,70,45,65,110,62,75,36,51,71,60,80,55,50,70,69,114,55,100,165,50,70,44,74,40,60,60,35,65,85,55,75,50,60,60,46,66,76,55,95,70,50,80,109,45,65,77,59,89,45,65,95,70,100,70,110,85,58,52,72,92,55,85,91,91,91,79,79,79,79,100,100,89,89,125,125,125,91,91,100,100,71,56,61,88,40,59,75,41,54,72,38,85,45,62,78,38,45,80,62,86,44,54,78,66,123,67,95,75,62,74,74,45,59,60,60,78,101,62,82,53,86,42,72,50,65,50,71,44,62,58,82,77,123,95,78,67,50,45,68,90,57,43,85,49,44,54,59,65,55,75,85,55,95,40,85,126,126,108,50,50,80,80,80],\"y0\":\" \",\"yaxis\":\"y\",\"type\":\"box\"}],                        {\"template\":{\"data\":{\"histogram2dcontour\":[{\"type\":\"histogram2dcontour\",\"colorbar\":{\"outlinewidth\":0,\"ticks\":\"\"},\"colorscale\":[[0.0,\"#0d0887\"],[0.1111111111111111,\"#46039f\"],[0.2222222222222222,\"#7201a8\"],[0.3333333333333333,\"#9c179e\"],[0.4444444444444444,\"#bd3786\"],[0.5555555555555556,\"#d8576b\"],[0.6666666666666666,\"#ed7953\"],[0.7777777777777778,\"#fb9f3a\"],[0.8888888888888888,\"#fdca26\"],[1.0,\"#f0f921\"]]}],\"choropleth\":[{\"type\":\"choropleth\",\"colorbar\":{\"outlinewidth\":0,\"ticks\":\"\"}}],\"histogram2d\":[{\"type\":\"histogram2d\",\"colorbar\":{\"outlinewidth\":0,\"ticks\":\"\"},\"colorscale\":[[0.0,\"#0d0887\"],[0.1111111111111111,\"#46039f\"],[0.2222222222222222,\"#7201a8\"],[0.3333333333333333,\"#9c179e\"],[0.4444444444444444,\"#bd3786\"],[0.5555555555555556,\"#d8576b\"],[0.6666666666666666,\"#ed7953\"],[0.7777777777777778,\"#fb9f3a\"],[0.8888888888888888,\"#fdca26\"],[1.0,\"#f0f921\"]]}],\"heatmap\":[{\"type\":\"heatmap\",\"colorbar\":{\"outlinewidth\":0,\"ticks\":\"\"},\"colorscale\":[[0.0,\"#0d0887\"],[0.1111111111111111,\"#46039f\"],[0.2222222222222222,\"#7201a8\"],[0.3333333333333333,\"#9c179e\"],[0.4444444444444444,\"#bd3786\"],[0.5555555555555556,\"#d8576b\"],[0.6666666666666666,\"#ed7953\"],[0.7777777777777778,\"#fb9f3a\"],[0.8888888888888888,\"#fdca26\"],[1.0,\"#f0f921\"]]}],\"heatmapgl\":[{\"type\":\"heatmapgl\",\"colorbar\":{\"outlinewidth\":0,\"ticks\":\"\"},\"colorscale\":[[0.0,\"#0d0887\"],[0.1111111111111111,\"#46039f\"],[0.2222222222222222,\"#7201a8\"],[0.3333333333333333,\"#9c179e\"],[0.4444444444444444,\"#bd3786\"],[0.5555555555555556,\"#d8576b\"],[0.6666666666666666,\"#ed7953\"],[0.7777777777777778,\"#fb9f3a\"],[0.8888888888888888,\"#fdca26\"],[1.0,\"#f0f921\"]]}],\"contourcarpet\":[{\"type\":\"contourcarpet\",\"colorbar\":{\"outlinewidth\":0,\"ticks\":\"\"}}],\"contour\":[{\"type\":\"contour\",\"colorbar\":{\"outlinewidth\":0,\"ticks\":\"\"},\"colorscale\":[[0.0,\"#0d0887\"],[0.1111111111111111,\"#46039f\"],[0.2222222222222222,\"#7201a8\"],[0.3333333333333333,\"#9c179e\"],[0.4444444444444444,\"#bd3786\"],[0.5555555555555556,\"#d8576b\"],[0.6666666666666666,\"#ed7953\"],[0.7777777777777778,\"#fb9f3a\"],[0.8888888888888888,\"#fdca26\"],[1.0,\"#f0f921\"]]}],\"surface\":[{\"type\":\"surface\",\"colorbar\":{\"outlinewidth\":0,\"ticks\":\"\"},\"colorscale\":[[0.0,\"#0d0887\"],[0.1111111111111111,\"#46039f\"],[0.2222222222222222,\"#7201a8\"],[0.3333333333333333,\"#9c179e\"],[0.4444444444444444,\"#bd3786\"],[0.5555555555555556,\"#d8576b\"],[0.6666666666666666,\"#ed7953\"],[0.7777777777777778,\"#fb9f3a\"],[0.8888888888888888,\"#fdca26\"],[1.0,\"#f0f921\"]]}],\"mesh3d\":[{\"type\":\"mesh3d\",\"colorbar\":{\"outlinewidth\":0,\"ticks\":\"\"}}],\"scatter\":[{\"fillpattern\":{\"fillmode\":\"overlay\",\"size\":10,\"solidity\":0.2},\"type\":\"scatter\"}],\"parcoords\":[{\"type\":\"parcoords\",\"line\":{\"colorbar\":{\"outlinewidth\":0,\"ticks\":\"\"}}}],\"scatterpolargl\":[{\"type\":\"scatterpolargl\",\"marker\":{\"colorbar\":{\"outlinewidth\":0,\"ticks\":\"\"}}}],\"bar\":[{\"error_x\":{\"color\":\"#2a3f5f\"},\"error_y\":{\"color\":\"#2a3f5f\"},\"marker\":{\"line\":{\"color\":\"#E5ECF6\",\"width\":0.5},\"pattern\":{\"fillmode\":\"overlay\",\"size\":10,\"solidity\":0.2}},\"type\":\"bar\"}],\"scattergeo\":[{\"type\":\"scattergeo\",\"marker\":{\"colorbar\":{\"outlinewidth\":0,\"ticks\":\"\"}}}],\"scatterpolar\":[{\"type\":\"scatterpolar\",\"marker\":{\"colorbar\":{\"outlinewidth\":0,\"ticks\":\"\"}}}],\"histogram\":[{\"marker\":{\"pattern\":{\"fillmode\":\"overlay\",\"size\":10,\"solidity\":0.2}},\"type\":\"histogram\"}],\"scattergl\":[{\"type\":\"scattergl\",\"marker\":{\"colorbar\":{\"outlinewidth\":0,\"ticks\":\"\"}}}],\"scatter3d\":[{\"type\":\"scatter3d\",\"line\":{\"colorbar\":{\"outlinewidth\":0,\"ticks\":\"\"}},\"marker\":{\"colorbar\":{\"outlinewidth\":0,\"ticks\":\"\"}}}],\"scattermapbox\":[{\"type\":\"scattermapbox\",\"marker\":{\"colorbar\":{\"outlinewidth\":0,\"ticks\":\"\"}}}],\"scatterternary\":[{\"type\":\"scatterternary\",\"marker\":{\"colorbar\":{\"outlinewidth\":0,\"ticks\":\"\"}}}],\"scattercarpet\":[{\"type\":\"scattercarpet\",\"marker\":{\"colorbar\":{\"outlinewidth\":0,\"ticks\":\"\"}}}],\"carpet\":[{\"aaxis\":{\"endlinecolor\":\"#2a3f5f\",\"gridcolor\":\"white\",\"linecolor\":\"white\",\"minorgridcolor\":\"white\",\"startlinecolor\":\"#2a3f5f\"},\"baxis\":{\"endlinecolor\":\"#2a3f5f\",\"gridcolor\":\"white\",\"linecolor\":\"white\",\"minorgridcolor\":\"white\",\"startlinecolor\":\"#2a3f5f\"},\"type\":\"carpet\"}],\"table\":[{\"cells\":{\"fill\":{\"color\":\"#EBF0F8\"},\"line\":{\"color\":\"white\"}},\"header\":{\"fill\":{\"color\":\"#C8D4E3\"},\"line\":{\"color\":\"white\"}},\"type\":\"table\"}],\"barpolar\":[{\"marker\":{\"line\":{\"color\":\"#E5ECF6\",\"width\":0.5},\"pattern\":{\"fillmode\":\"overlay\",\"size\":10,\"solidity\":0.2}},\"type\":\"barpolar\"}],\"pie\":[{\"automargin\":true,\"type\":\"pie\"}]},\"layout\":{\"autotypenumbers\":\"strict\",\"colorway\":[\"#636efa\",\"#EF553B\",\"#00cc96\",\"#ab63fa\",\"#FFA15A\",\"#19d3f3\",\"#FF6692\",\"#B6E880\",\"#FF97FF\",\"#FECB52\"],\"font\":{\"color\":\"#2a3f5f\"},\"hovermode\":\"closest\",\"hoverlabel\":{\"align\":\"left\"},\"paper_bgcolor\":\"white\",\"plot_bgcolor\":\"#E5ECF6\",\"polar\":{\"bgcolor\":\"#E5ECF6\",\"angularaxis\":{\"gridcolor\":\"white\",\"linecolor\":\"white\",\"ticks\":\"\"},\"radialaxis\":{\"gridcolor\":\"white\",\"linecolor\":\"white\",\"ticks\":\"\"}},\"ternary\":{\"bgcolor\":\"#E5ECF6\",\"aaxis\":{\"gridcolor\":\"white\",\"linecolor\":\"white\",\"ticks\":\"\"},\"baxis\":{\"gridcolor\":\"white\",\"linecolor\":\"white\",\"ticks\":\"\"},\"caxis\":{\"gridcolor\":\"white\",\"linecolor\":\"white\",\"ticks\":\"\"}},\"coloraxis\":{\"colorbar\":{\"outlinewidth\":0,\"ticks\":\"\"}},\"colorscale\":{\"sequential\":[[0.0,\"#0d0887\"],[0.1111111111111111,\"#46039f\"],[0.2222222222222222,\"#7201a8\"],[0.3333333333333333,\"#9c179e\"],[0.4444444444444444,\"#bd3786\"],[0.5555555555555556,\"#d8576b\"],[0.6666666666666666,\"#ed7953\"],[0.7777777777777778,\"#fb9f3a\"],[0.8888888888888888,\"#fdca26\"],[1.0,\"#f0f921\"]],\"sequentialminus\":[[0.0,\"#0d0887\"],[0.1111111111111111,\"#46039f\"],[0.2222222222222222,\"#7201a8\"],[0.3333333333333333,\"#9c179e\"],[0.4444444444444444,\"#bd3786\"],[0.5555555555555556,\"#d8576b\"],[0.6666666666666666,\"#ed7953\"],[0.7777777777777778,\"#fb9f3a\"],[0.8888888888888888,\"#fdca26\"],[1.0,\"#f0f921\"]],\"diverging\":[[0,\"#8e0152\"],[0.1,\"#c51b7d\"],[0.2,\"#de77ae\"],[0.3,\"#f1b6da\"],[0.4,\"#fde0ef\"],[0.5,\"#f7f7f7\"],[0.6,\"#e6f5d0\"],[0.7,\"#b8e186\"],[0.8,\"#7fbc41\"],[0.9,\"#4d9221\"],[1,\"#276419\"]]},\"xaxis\":{\"gridcolor\":\"white\",\"linecolor\":\"white\",\"ticks\":\"\",\"title\":{\"standoff\":15},\"zerolinecolor\":\"white\",\"automargin\":true,\"zerolinewidth\":2},\"yaxis\":{\"gridcolor\":\"white\",\"linecolor\":\"white\",\"ticks\":\"\",\"title\":{\"standoff\":15},\"zerolinecolor\":\"white\",\"automargin\":true,\"zerolinewidth\":2},\"scene\":{\"xaxis\":{\"backgroundcolor\":\"#E5ECF6\",\"gridcolor\":\"white\",\"linecolor\":\"white\",\"showbackground\":true,\"ticks\":\"\",\"zerolinecolor\":\"white\",\"gridwidth\":2},\"yaxis\":{\"backgroundcolor\":\"#E5ECF6\",\"gridcolor\":\"white\",\"linecolor\":\"white\",\"showbackground\":true,\"ticks\":\"\",\"zerolinecolor\":\"white\",\"gridwidth\":2},\"zaxis\":{\"backgroundcolor\":\"#E5ECF6\",\"gridcolor\":\"white\",\"linecolor\":\"white\",\"showbackground\":true,\"ticks\":\"\",\"zerolinecolor\":\"white\",\"gridwidth\":2}},\"shapedefaults\":{\"line\":{\"color\":\"#2a3f5f\"}},\"annotationdefaults\":{\"arrowcolor\":\"#2a3f5f\",\"arrowhead\":0,\"arrowwidth\":1},\"geo\":{\"bgcolor\":\"white\",\"landcolor\":\"#E5ECF6\",\"subunitcolor\":\"white\",\"showland\":true,\"showlakes\":true,\"lakecolor\":\"white\"},\"title\":{\"x\":0.05},\"mapbox\":{\"style\":\"light\"}}},\"xaxis\":{\"anchor\":\"y\",\"domain\":[0.0,1.0],\"title\":{\"text\":\"Type 1\"}},\"yaxis\":{\"anchor\":\"x\",\"domain\":[0.0,1.0],\"title\":{\"text\":\"HP\"}},\"legend\":{\"tracegroupgap\":0},\"margin\":{\"t\":60},\"boxmode\":\"group\"},                        {\"responsive\": true}                    ).then(function(){\n",
              "                            \n",
              "var gd = document.getElementById('656d580f-ddbf-4288-a91e-faae72146fdd');\n",
              "var x = new MutationObserver(function (mutations, observer) {{\n",
              "        var display = window.getComputedStyle(gd).display;\n",
              "        if (!display || display === 'none') {{\n",
              "            console.log([gd, 'removed!']);\n",
              "            Plotly.purge(gd);\n",
              "            observer.disconnect();\n",
              "        }}\n",
              "}});\n",
              "\n",
              "// Listen for the removal of the full notebook cells\n",
              "var notebookContainer = gd.closest('#notebook-container');\n",
              "if (notebookContainer) {{\n",
              "    x.observe(notebookContainer, {childList: true});\n",
              "}}\n",
              "\n",
              "// Listen for the clearing of the current output cell\n",
              "var outputEl = gd.closest('.output');\n",
              "if (outputEl) {{\n",
              "    x.observe(outputEl, {childList: true});\n",
              "}}\n",
              "\n",
              "                        })                };                            </script>        </div>\n",
              "</body>\n",
              "</html>"
            ]
          },
          "metadata": {}
        }
      ]
    },
    {
      "cell_type": "code",
      "source": [
        "# 針對Attack,Defense欄位繪製散點圖，並找出「攻防一體皆強」的pokemon。\n",
        "import pandas as pd\n",
        "import numpy as np\n",
        "import matplotlib.pyplot as plt\n",
        "df=pd.read_csv('pokemon.csv')\n",
        "plt.scatter(df['HP'],df['Defense'],marker='x')\n",
        "plt.xlabel('HP')\n",
        "plt.ylabel('Defense')\n",
        "plt.show()"
      ],
      "metadata": {
        "colab": {
          "base_uri": "https://localhost:8080/",
          "height": 279
        },
        "id": "IDSBhlODZkYm",
        "outputId": "e3e2ae22-a365-4773-9390-309ac81aeb76"
      },
      "execution_count": null,
      "outputs": [
        {
          "output_type": "display_data",
          "data": {
            "text/plain": [
              "<Figure size 432x288 with 1 Axes>"
            ],
            "image/png": "[encoded data removed]"
          },
          "metadata": {
            "needs_background": "light"
          }
        }
      ]
    },
    {
      "cell_type": "code",
      "source": [
        "# 針對Attack,Defense欄位繪製散點圖，並找出「攻防一體皆強」的pokemon。\n",
        "import pandas as pd\n",
        "import numpy as np\n",
        "import plotly.express as px\n",
        "df=pd.read_csv('pokemon.csv')\n",
        "fig=px.scatter(df, x=\"HP\", y=\"Defense\", color=\"Type 1\", symbol=\"Type 1\",hover_data=['Name'])\n",
        "fig.show()"
      ],
      "metadata": {
        "colab": {
          "base_uri": "https://localhost:8080/",
          "height": 542
        },
        "id": "xBfrT4x9afEv",
        "outputId": "3baea81e-8c6c-4edd-fffe-34df8a541f28"
      },
      "execution_count": null,
      "outputs": [
        {
          "output_type": "display_data",
          "data": {
            "text/html": [
              "<html>\n",
              "<head><meta charset=\"utf-8\" /></head>\n",
              "<body>\n",
              "    <div>            <script src=\"https://cdnjs.cloudflare.com/ajax/libs/mathjax/2.7.5/MathJax.js?config=TeX-AMS-MML_SVG\"></script><script type=\"text/javascript\">if (window.MathJax && window.MathJax.Hub && window.MathJax.Hub.Config) {window.MathJax.Hub.Config({SVG: {font: \"STIX-Web\"}});}</script>                <script type=\"text/javascript\">window.PlotlyConfig = {MathJaxConfig: 'local'};</script>\n",
              "        <script src=\"https://cdn.plot.ly/plotly-2.18.2.min.js\"></script>                <div id=\"126b6614-a94e-4ede-82c2-92edc721cc9e\" class=\"plotly-graph-div\" style=\"height:525px; width:100%;\"></div>            <script type=\"text/javascript\">                                    window.PLOTLYENV=window.PLOTLYENV || {};                                    if (document.getElementById(\"126b6614-a94e-4ede-82c2-92edc721cc9e\")) {                    Plotly.newPlot(                        \"126b6614-a94e-4ede-82c2-92edc721cc9e\",                        [{\"customdata\":[[\"Bulbasaur\"],[\"Ivysaur\"],[\"Venusaur\"],[\"VenusaurMega Venusaur\"],[\"Oddish\"],[\"Gloom\"],[\"Vileplume\"],[\"Bellsprout\"],[\"Weepinbell\"],[\"Victreebel\"],[\"Exeggcute\"],[\"Exeggutor\"],[\"Tangela\"],[\"Chikorita\"],[\"Bayleef\"],[\"Meganium\"],[\"Bellossom\"],[\"Hoppip\"],[\"Skiploom\"],[\"Jumpluff\"],[\"Sunkern\"],[\"Sunflora\"],[\"Treecko\"],[\"Grovyle\"],[\"Sceptile\"],[\"SceptileMega Sceptile\"],[\"Seedot\"],[\"Nuzleaf\"],[\"Shiftry\"],[\"Shroomish\"],[\"Breloom\"],[\"Roselia\"],[\"Cacnea\"],[\"Cacturne\"],[\"Tropius\"],[\"Turtwig\"],[\"Grotle\"],[\"Torterra\"],[\"Budew\"],[\"Roserade\"],[\"Cherubi\"],[\"Cherrim\"],[\"Carnivine\"],[\"Snover\"],[\"Abomasnow\"],[\"AbomasnowMega Abomasnow\"],[\"Tangrowth\"],[\"Leafeon\"],[\"ShayminLand Forme\"],[\"ShayminSky Forme\"],[\"Snivy\"],[\"Servine\"],[\"Serperior\"],[\"Pansage\"],[\"Simisage\"],[\"Cottonee\"],[\"Whimsicott\"],[\"Petilil\"],[\"Lilligant\"],[\"Maractus\"],[\"Foongus\"],[\"Amoonguss\"],[\"Ferroseed\"],[\"Ferrothorn\"],[\"Virizion\"],[\"Chespin\"],[\"Quilladin\"],[\"Chesnaught\"],[\"Skiddo\"],[\"Gogoat\"]],\"hovertemplate\":\"Type 1=Grass<br>HP=%{x}<br>Defense=%{y}<br>Name=%{customdata[0]}<extra></extra>\",\"legendgroup\":\"Grass\",\"marker\":{\"color\":\"#636efa\",\"symbol\":\"circle\"},\"mode\":\"markers\",\"name\":\"Grass\",\"orientation\":\"v\",\"showlegend\":true,\"x\":[45,60,80,80,45,60,75,50,65,80,60,95,65,45,60,80,75,35,55,75,30,75,40,50,70,70,40,70,90,60,60,50,50,70,99,55,75,95,40,60,45,70,74,60,90,90,100,65,100,100,45,60,75,50,75,40,60,45,70,75,69,114,44,74,91,56,61,88,66,123],\"xaxis\":\"x\",\"y\":[49,63,83,123,55,70,85,35,50,65,80,85,115,65,80,100,95,40,50,70,30,55,35,45,65,75,50,40,60,60,80,45,40,60,83,64,85,105,35,65,45,70,72,50,75,105,125,130,100,75,55,75,95,48,63,60,85,50,75,67,45,70,91,131,72,65,95,122,48,62],\"yaxis\":\"y\",\"type\":\"scatter\"},{\"customdata\":[[\"Charmander\"],[\"Charmeleon\"],[\"Charizard\"],[\"CharizardMega Charizard X\"],[\"CharizardMega Charizard Y\"],[\"Vulpix\"],[\"Ninetales\"],[\"Growlithe\"],[\"Arcanine\"],[\"Ponyta\"],[\"Rapidash\"],[\"Magmar\"],[\"Flareon\"],[\"Moltres\"],[\"Cyndaquil\"],[\"Quilava\"],[\"Typhlosion\"],[\"Slugma\"],[\"Magcargo\"],[\"Magby\"],[\"Entei\"],[\"Ho-oh\"],[\"Torchic\"],[\"Combusken\"],[\"Blaziken\"],[\"BlazikenMega Blaziken\"],[\"Numel\"],[\"Camerupt\"],[\"CameruptMega Camerupt\"],[\"Torkoal\"],[\"Chimchar\"],[\"Monferno\"],[\"Infernape\"],[\"Magmortar\"],[\"Heatran\"],[\"Tepig\"],[\"Pignite\"],[\"Emboar\"],[\"Pansear\"],[\"Simisear\"],[\"Darumaka\"],[\"DarmanitanStandard Mode\"],[\"DarmanitanZen Mode\"],[\"Heatmor\"],[\"Fennekin\"],[\"Braixen\"],[\"Delphox\"],[\"Fletchinder\"],[\"Talonflame\"],[\"Litleo\"],[\"Pyroar\"],[\"Volcanion\"]],\"hovertemplate\":\"Type 1=Fire<br>HP=%{x}<br>Defense=%{y}<br>Name=%{customdata[0]}<extra></extra>\",\"legendgroup\":\"Fire\",\"marker\":{\"color\":\"#EF553B\",\"symbol\":\"diamond\"},\"mode\":\"markers\",\"name\":\"Fire\",\"orientation\":\"v\",\"showlegend\":true,\"x\":[39,58,78,78,78,38,73,55,90,50,65,65,65,90,39,58,78,40,50,45,115,106,45,60,80,80,60,70,70,70,44,64,76,75,91,65,90,110,50,75,70,105,105,85,40,59,75,62,78,62,86,80],\"xaxis\":\"x\",\"y\":[43,58,78,111,78,40,75,45,80,55,70,57,60,90,43,58,78,40,120,37,85,90,40,60,70,80,40,70,100,140,44,52,71,67,106,45,55,65,48,63,45,55,105,66,40,58,72,55,71,58,72,120],\"yaxis\":\"y\",\"type\":\"scatter\"},{\"customdata\":[[\"Squirtle\"],[\"Wartortle\"],[\"Blastoise\"],[\"BlastoiseMega Blastoise\"],[\"Psyduck\"],[\"Golduck\"],[\"Poliwag\"],[\"Poliwhirl\"],[\"Poliwrath\"],[\"Tentacool\"],[\"Tentacruel\"],[\"Slowpoke\"],[\"Slowbro\"],[\"SlowbroMega Slowbro\"],[\"Seel\"],[\"Dewgong\"],[\"Shellder\"],[\"Cloyster\"],[\"Krabby\"],[\"Kingler\"],[\"Horsea\"],[\"Seadra\"],[\"Goldeen\"],[\"Seaking\"],[\"Staryu\"],[\"Starmie\"],[\"Magikarp\"],[\"Gyarados\"],[\"GyaradosMega Gyarados\"],[\"Lapras\"],[\"Vaporeon\"],[\"Totodile\"],[\"Croconaw\"],[\"Feraligatr\"],[\"Chinchou\"],[\"Lanturn\"],[\"Marill\"],[\"Azumarill\"],[\"Politoed\"],[\"Wooper\"],[\"Quagsire\"],[\"Slowking\"],[\"Qwilfish\"],[\"Corsola\"],[\"Remoraid\"],[\"Octillery\"],[\"Mantine\"],[\"Kingdra\"],[\"Suicune\"],[\"Mudkip\"],[\"Marshtomp\"],[\"Swampert\"],[\"SwampertMega Swampert\"],[\"Lotad\"],[\"Lombre\"],[\"Ludicolo\"],[\"Wingull\"],[\"Pelipper\"],[\"Carvanha\"],[\"Sharpedo\"],[\"SharpedoMega Sharpedo\"],[\"Wailmer\"],[\"Wailord\"],[\"Barboach\"],[\"Whiscash\"],[\"Corphish\"],[\"Crawdaunt\"],[\"Feebas\"],[\"Milotic\"],[\"Clamperl\"],[\"Huntail\"],[\"Gorebyss\"],[\"Relicanth\"],[\"Luvdisc\"],[\"Kyogre\"],[\"KyogrePrimal Kyogre\"],[\"Piplup\"],[\"Prinplup\"],[\"Empoleon\"],[\"Buizel\"],[\"Floatzel\"],[\"Shellos\"],[\"Gastrodon\"],[\"Finneon\"],[\"Lumineon\"],[\"Mantyke\"],[\"Palkia\"],[\"Phione\"],[\"Manaphy\"],[\"Oshawott\"],[\"Dewott\"],[\"Samurott\"],[\"Panpour\"],[\"Simipour\"],[\"Tympole\"],[\"Palpitoad\"],[\"Seismitoad\"],[\"Basculin\"],[\"Tirtouga\"],[\"Carracosta\"],[\"Ducklett\"],[\"Swanna\"],[\"Frillish\"],[\"Jellicent\"],[\"Alomomola\"],[\"KeldeoOrdinary Forme\"],[\"KeldeoResolute Forme\"],[\"Froakie\"],[\"Frogadier\"],[\"Greninja\"],[\"Clauncher\"],[\"Clawitzer\"]],\"hovertemplate\":\"Type 1=Water<br>HP=%{x}<br>Defense=%{y}<br>Name=%{customdata[0]}<extra></extra>\",\"legendgroup\":\"Water\",\"marker\":{\"color\":\"#00cc96\",\"symbol\":\"square\"},\"mode\":\"markers\",\"name\":\"Water\",\"orientation\":\"v\",\"showlegend\":true,\"x\":[44,59,79,79,50,80,40,65,90,40,80,90,95,95,65,90,30,50,30,55,30,55,45,80,30,60,20,95,95,130,130,50,65,85,75,125,70,100,90,55,95,95,65,55,35,75,65,75,100,50,70,100,100,40,60,80,40,60,45,70,70,130,170,50,110,43,63,20,95,35,55,55,100,43,100,100,53,64,84,55,85,76,111,49,69,45,90,80,100,55,75,95,50,75,50,75,105,70,54,74,62,75,55,100,165,91,91,41,54,72,50,71],\"xaxis\":\"x\",\"y\":[65,80,100,120,48,78,40,65,95,35,65,65,110,180,55,80,100,180,90,115,70,95,60,65,55,85,55,79,109,80,60,64,80,100,38,58,50,80,75,45,85,80,75,85,35,75,70,95,115,50,70,90,110,30,50,70,30,100,20,40,70,35,45,43,73,65,85,20,79,85,105,105,130,55,90,90,53,68,88,35,55,48,68,56,76,50,100,80,100,45,60,85,48,63,40,55,75,65,103,133,50,63,50,70,80,90,90,40,52,67,62,88],\"yaxis\":\"y\",\"type\":\"scatter\"},{\"customdata\":[[\"Caterpie\"],[\"Metapod\"],[\"Butterfree\"],[\"Weedle\"],[\"Kakuna\"],[\"Beedrill\"],[\"BeedrillMega Beedrill\"],[\"Paras\"],[\"Parasect\"],[\"Venonat\"],[\"Venomoth\"],[\"Scyther\"],[\"Pinsir\"],[\"PinsirMega Pinsir\"],[\"Ledyba\"],[\"Ledian\"],[\"Spinarak\"],[\"Ariados\"],[\"Yanma\"],[\"Pineco\"],[\"Forretress\"],[\"Scizor\"],[\"ScizorMega Scizor\"],[\"Shuckle\"],[\"Heracross\"],[\"HeracrossMega Heracross\"],[\"Wurmple\"],[\"Silcoon\"],[\"Beautifly\"],[\"Cascoon\"],[\"Dustox\"],[\"Surskit\"],[\"Masquerain\"],[\"Nincada\"],[\"Ninjask\"],[\"Shedinja\"],[\"Volbeat\"],[\"Illumise\"],[\"Kricketot\"],[\"Kricketune\"],[\"Burmy\"],[\"WormadamPlant Cloak\"],[\"WormadamSandy Cloak\"],[\"WormadamTrash Cloak\"],[\"Mothim\"],[\"Combee\"],[\"Vespiquen\"],[\"Yanmega\"],[\"Sewaddle\"],[\"Swadloon\"],[\"Leavanny\"],[\"Venipede\"],[\"Whirlipede\"],[\"Scolipede\"],[\"Dwebble\"],[\"Crustle\"],[\"Karrablast\"],[\"Escavalier\"],[\"Joltik\"],[\"Galvantula\"],[\"Shelmet\"],[\"Accelgor\"],[\"Durant\"],[\"Larvesta\"],[\"Volcarona\"],[\"Genesect\"],[\"Scatterbug\"],[\"Spewpa\"],[\"Vivillon\"]],\"hovertemplate\":\"Type 1=Bug<br>HP=%{x}<br>Defense=%{y}<br>Name=%{customdata[0]}<extra></extra>\",\"legendgroup\":\"Bug\",\"marker\":{\"color\":\"#ab63fa\",\"symbol\":\"x\"},\"mode\":\"markers\",\"name\":\"Bug\",\"orientation\":\"v\",\"showlegend\":true,\"x\":[45,50,60,40,45,65,65,35,60,60,70,70,65,65,40,55,40,70,65,50,75,70,70,20,80,80,45,50,60,50,60,40,70,31,61,1,65,65,37,77,40,60,60,60,70,30,70,86,45,55,75,30,40,60,50,70,50,70,50,70,50,80,58,55,85,71,38,45,80],\"xaxis\":\"x\",\"y\":[35,55,50,30,50,40,40,55,80,50,60,80,100,120,30,50,40,70,45,90,140,100,140,230,75,115,35,55,50,55,70,32,62,90,45,45,55,55,41,51,45,85,105,95,50,42,102,86,70,90,80,59,99,89,85,125,45,105,50,60,85,40,112,55,65,95,40,60,50],\"yaxis\":\"y\",\"type\":\"scatter\"},{\"customdata\":[[\"Pidgey\"],[\"Pidgeotto\"],[\"Pidgeot\"],[\"PidgeotMega Pidgeot\"],[\"Rattata\"],[\"Raticate\"],[\"Spearow\"],[\"Fearow\"],[\"Jigglypuff\"],[\"Wigglytuff\"],[\"Meowth\"],[\"Persian\"],[\"Farfetch'd\"],[\"Doduo\"],[\"Dodrio\"],[\"Lickitung\"],[\"Chansey\"],[\"Kangaskhan\"],[\"KangaskhanMega Kangaskhan\"],[\"Tauros\"],[\"Ditto\"],[\"Eevee\"],[\"Porygon\"],[\"Snorlax\"],[\"Sentret\"],[\"Furret\"],[\"Hoothoot\"],[\"Noctowl\"],[\"Igglybuff\"],[\"Aipom\"],[\"Girafarig\"],[\"Dunsparce\"],[\"Teddiursa\"],[\"Ursaring\"],[\"Porygon2\"],[\"Stantler\"],[\"Smeargle\"],[\"Miltank\"],[\"Blissey\"],[\"Zigzagoon\"],[\"Linoone\"],[\"Taillow\"],[\"Swellow\"],[\"Slakoth\"],[\"Vigoroth\"],[\"Slaking\"],[\"Whismur\"],[\"Loudred\"],[\"Exploud\"],[\"Azurill\"],[\"Skitty\"],[\"Delcatty\"],[\"Spinda\"],[\"Swablu\"],[\"Zangoose\"],[\"Castform\"],[\"Kecleon\"],[\"Starly\"],[\"Staravia\"],[\"Staraptor\"],[\"Bidoof\"],[\"Bibarel\"],[\"Ambipom\"],[\"Buneary\"],[\"Lopunny\"],[\"LopunnyMega Lopunny\"],[\"Glameow\"],[\"Purugly\"],[\"Happiny\"],[\"Chatot\"],[\"Munchlax\"],[\"Lickilicky\"],[\"Porygon-Z\"],[\"Regigigas\"],[\"Arceus\"],[\"Patrat\"],[\"Watchog\"],[\"Lillipup\"],[\"Herdier\"],[\"Stoutland\"],[\"Pidove\"],[\"Tranquill\"],[\"Unfezant\"],[\"Audino\"],[\"AudinoMega Audino\"],[\"Minccino\"],[\"Cinccino\"],[\"Deerling\"],[\"Sawsbuck\"],[\"Bouffalant\"],[\"Rufflet\"],[\"Braviary\"],[\"MeloettaAria Forme\"],[\"MeloettaPirouette Forme\"],[\"Bunnelby\"],[\"Diggersby\"],[\"Fletchling\"],[\"Furfrou\"]],\"hovertemplate\":\"Type 1=Normal<br>HP=%{x}<br>Defense=%{y}<br>Name=%{customdata[0]}<extra></extra>\",\"legendgroup\":\"Normal\",\"marker\":{\"color\":\"#FFA15A\",\"symbol\":\"cross\"},\"mode\":\"markers\",\"name\":\"Normal\",\"orientation\":\"v\",\"showlegend\":true,\"x\":[40,63,83,83,30,55,40,65,115,140,40,65,52,35,60,90,250,105,105,75,48,55,65,160,35,85,60,100,90,55,70,100,60,90,85,73,55,95,255,38,78,40,60,60,80,150,64,84,104,50,50,70,60,45,73,70,60,40,55,85,59,79,75,55,65,65,49,71,100,76,135,110,85,110,120,45,60,45,65,85,50,62,80,103,103,55,75,60,80,95,70,100,100,100,38,85,45,75],\"xaxis\":\"x\",\"y\":[40,55,75,80,35,60,30,65,20,45,35,60,55,45,70,75,5,80,100,95,48,50,70,65,34,64,30,50,15,55,65,70,50,75,90,62,35,105,10,41,61,30,60,60,80,100,23,43,63,40,45,65,60,60,60,70,70,30,50,70,40,60,66,44,84,94,42,64,5,45,40,95,70,110,120,39,69,45,65,90,50,62,80,86,126,40,60,50,70,95,50,75,77,90,38,77,43,60],\"yaxis\":\"y\",\"type\":\"scatter\"},{\"customdata\":[[\"Ekans\"],[\"Arbok\"],[\"Nidoran\\u2640\"],[\"Nidorina\"],[\"Nidoqueen\"],[\"Nidoran\\u2642\"],[\"Nidorino\"],[\"Nidoking\"],[\"Zubat\"],[\"Golbat\"],[\"Grimer\"],[\"Muk\"],[\"Koffing\"],[\"Weezing\"],[\"Crobat\"],[\"Gulpin\"],[\"Swalot\"],[\"Seviper\"],[\"Stunky\"],[\"Skuntank\"],[\"Skorupi\"],[\"Drapion\"],[\"Croagunk\"],[\"Toxicroak\"],[\"Trubbish\"],[\"Garbodor\"],[\"Skrelp\"],[\"Dragalge\"]],\"hovertemplate\":\"Type 1=Poison<br>HP=%{x}<br>Defense=%{y}<br>Name=%{customdata[0]}<extra></extra>\",\"legendgroup\":\"Poison\",\"marker\":{\"color\":\"#19d3f3\",\"symbol\":\"circle\"},\"mode\":\"markers\",\"name\":\"Poison\",\"orientation\":\"v\",\"showlegend\":true,\"x\":[35,60,55,70,90,46,61,81,40,75,80,105,40,65,85,70,100,73,63,103,40,70,48,83,50,80,50,65],\"xaxis\":\"x\",\"y\":[44,69,52,67,87,40,57,77,35,70,50,75,95,120,80,53,83,60,47,67,90,110,40,65,62,82,60,90],\"yaxis\":\"y\",\"type\":\"scatter\"},{\"customdata\":[[\"Pikachu\"],[\"Raichu\"],[\"Magnemite\"],[\"Magneton\"],[\"Voltorb\"],[\"Electrode\"],[\"Electabuzz\"],[\"Jolteon\"],[\"Zapdos\"],[\"Pichu\"],[\"Mareep\"],[\"Flaaffy\"],[\"Ampharos\"],[\"AmpharosMega Ampharos\"],[\"Elekid\"],[\"Raikou\"],[\"Electrike\"],[\"Manectric\"],[\"ManectricMega Manectric\"],[\"Plusle\"],[\"Minun\"],[\"Shinx\"],[\"Luxio\"],[\"Luxray\"],[\"Pachirisu\"],[\"Magnezone\"],[\"Electivire\"],[\"Rotom\"],[\"RotomHeat Rotom\"],[\"RotomWash Rotom\"],[\"RotomFrost Rotom\"],[\"RotomFan Rotom\"],[\"RotomMow Rotom\"],[\"Blitzle\"],[\"Zebstrika\"],[\"Emolga\"],[\"Tynamo\"],[\"Eelektrik\"],[\"Eelektross\"],[\"ThundurusIncarnate Forme\"],[\"ThundurusTherian Forme\"],[\"Helioptile\"],[\"Heliolisk\"],[\"Dedenne\"]],\"hovertemplate\":\"Type 1=Electric<br>HP=%{x}<br>Defense=%{y}<br>Name=%{customdata[0]}<extra></extra>\",\"legendgroup\":\"Electric\",\"marker\":{\"color\":\"#FF6692\",\"symbol\":\"diamond\"},\"mode\":\"markers\",\"name\":\"Electric\",\"orientation\":\"v\",\"showlegend\":true,\"x\":[35,60,25,50,40,60,65,65,90,20,55,70,90,90,45,90,40,70,70,60,60,45,60,80,60,70,75,50,50,50,50,50,50,45,75,55,35,65,85,79,79,44,62,67],\"xaxis\":\"x\",\"y\":[40,55,70,95,50,70,57,60,85,15,40,55,85,105,37,75,40,60,80,40,50,34,49,79,70,115,67,77,107,107,107,107,107,32,63,60,40,70,80,70,70,33,52,57],\"yaxis\":\"y\",\"type\":\"scatter\"},{\"customdata\":[[\"Sandshrew\"],[\"Sandslash\"],[\"Diglett\"],[\"Dugtrio\"],[\"Cubone\"],[\"Marowak\"],[\"Rhyhorn\"],[\"Rhydon\"],[\"Gligar\"],[\"Phanpy\"],[\"Donphan\"],[\"Trapinch\"],[\"Vibrava\"],[\"Flygon\"],[\"Baltoy\"],[\"Claydol\"],[\"Groudon\"],[\"GroudonPrimal Groudon\"],[\"Hippopotas\"],[\"Hippowdon\"],[\"Rhyperior\"],[\"Gliscor\"],[\"Drilbur\"],[\"Excadrill\"],[\"Sandile\"],[\"Krokorok\"],[\"Krookodile\"],[\"Stunfisk\"],[\"Golett\"],[\"Golurk\"],[\"LandorusIncarnate Forme\"],[\"LandorusTherian Forme\"]],\"hovertemplate\":\"Type 1=Ground<br>HP=%{x}<br>Defense=%{y}<br>Name=%{customdata[0]}<extra></extra>\",\"legendgroup\":\"Ground\",\"marker\":{\"color\":\"#B6E880\",\"symbol\":\"square\"},\"mode\":\"markers\",\"name\":\"Ground\",\"orientation\":\"v\",\"showlegend\":true,\"x\":[50,75,10,35,50,60,80,105,65,90,90,45,50,80,40,60,100,100,68,108,115,75,60,110,50,60,95,109,59,89,89,89],\"xaxis\":\"x\",\"y\":[85,110,25,50,95,110,95,120,105,60,120,45,50,80,55,105,140,160,78,118,130,125,40,60,35,45,80,84,50,80,90,90],\"yaxis\":\"y\",\"type\":\"scatter\"},{\"customdata\":[[\"Clefairy\"],[\"Clefable\"],[\"Cleffa\"],[\"Togepi\"],[\"Togetic\"],[\"Snubbull\"],[\"Granbull\"],[\"Togekiss\"],[\"Flab\\u00e9b\\u00e9\"],[\"Floette\"],[\"Florges\"],[\"Spritzee\"],[\"Aromatisse\"],[\"Swirlix\"],[\"Slurpuff\"],[\"Sylveon\"],[\"Xerneas\"]],\"hovertemplate\":\"Type 1=Fairy<br>HP=%{x}<br>Defense=%{y}<br>Name=%{customdata[0]}<extra></extra>\",\"legendgroup\":\"Fairy\",\"marker\":{\"color\":\"#FF97FF\",\"symbol\":\"x\"},\"mode\":\"markers\",\"name\":\"Fairy\",\"orientation\":\"v\",\"showlegend\":true,\"x\":[70,95,50,35,55,60,90,85,44,54,78,78,101,62,82,95,126],\"xaxis\":\"x\",\"y\":[48,73,28,65,85,50,75,95,39,47,68,60,72,66,86,65,95],\"yaxis\":\"y\",\"type\":\"scatter\"},{\"customdata\":[[\"Mankey\"],[\"Primeape\"],[\"Machop\"],[\"Machoke\"],[\"Machamp\"],[\"Hitmonlee\"],[\"Hitmonchan\"],[\"Tyrogue\"],[\"Hitmontop\"],[\"Makuhita\"],[\"Hariyama\"],[\"Meditite\"],[\"Medicham\"],[\"MedichamMega Medicham\"],[\"Riolu\"],[\"Lucario\"],[\"LucarioMega Lucario\"],[\"Timburr\"],[\"Gurdurr\"],[\"Conkeldurr\"],[\"Throh\"],[\"Sawk\"],[\"Mienfoo\"],[\"Mienshao\"],[\"Pancham\"],[\"Pangoro\"],[\"Hawlucha\"]],\"hovertemplate\":\"Type 1=Fighting<br>HP=%{x}<br>Defense=%{y}<br>Name=%{customdata[0]}<extra></extra>\",\"legendgroup\":\"Fighting\",\"marker\":{\"color\":\"#FECB52\",\"symbol\":\"cross\"},\"mode\":\"markers\",\"name\":\"Fighting\",\"orientation\":\"v\",\"showlegend\":true,\"x\":[40,65,70,80,90,50,50,35,50,72,144,30,60,60,40,70,70,75,85,105,120,75,45,65,67,95,78],\"xaxis\":\"x\",\"y\":[35,60,50,70,80,53,79,35,95,30,60,55,75,85,40,70,88,55,85,95,85,75,50,60,62,78,75],\"yaxis\":\"y\",\"type\":\"scatter\"},{\"customdata\":[[\"Abra\"],[\"Kadabra\"],[\"Alakazam\"],[\"AlakazamMega Alakazam\"],[\"Drowzee\"],[\"Hypno\"],[\"Mr. Mime\"],[\"Mewtwo\"],[\"MewtwoMega Mewtwo X\"],[\"MewtwoMega Mewtwo Y\"],[\"Mew\"],[\"Natu\"],[\"Xatu\"],[\"Espeon\"],[\"Unown\"],[\"Wobbuffet\"],[\"Lugia\"],[\"Celebi\"],[\"Ralts\"],[\"Kirlia\"],[\"Gardevoir\"],[\"GardevoirMega Gardevoir\"],[\"Spoink\"],[\"Grumpig\"],[\"Chimecho\"],[\"Wynaut\"],[\"DeoxysNormal Forme\"],[\"DeoxysAttack Forme\"],[\"DeoxysDefense Forme\"],[\"DeoxysSpeed Forme\"],[\"Chingling\"],[\"Mime Jr.\"],[\"Gallade\"],[\"GalladeMega Gallade\"],[\"Uxie\"],[\"Mesprit\"],[\"Azelf\"],[\"Cresselia\"],[\"Victini\"],[\"Munna\"],[\"Musharna\"],[\"Woobat\"],[\"Swoobat\"],[\"Sigilyph\"],[\"Gothita\"],[\"Gothorita\"],[\"Gothitelle\"],[\"Solosis\"],[\"Duosion\"],[\"Reuniclus\"],[\"Elgyem\"],[\"Beheeyem\"],[\"Espurr\"],[\"MeowsticMale\"],[\"MeowsticFemale\"],[\"HoopaHoopa Confined\"],[\"HoopaHoopa Unbound\"]],\"hovertemplate\":\"Type 1=Psychic<br>HP=%{x}<br>Defense=%{y}<br>Name=%{customdata[0]}<extra></extra>\",\"legendgroup\":\"Psychic\",\"marker\":{\"color\":\"#636efa\",\"symbol\":\"circle\"},\"mode\":\"markers\",\"name\":\"Psychic\",\"orientation\":\"v\",\"showlegend\":true,\"x\":[25,40,55,55,60,85,40,106,106,106,100,40,65,65,48,190,106,100,28,38,68,68,60,80,65,95,50,50,50,50,45,20,68,68,75,80,75,120,100,76,116,55,67,72,45,60,70,45,65,110,55,75,62,74,74,80,80],\"xaxis\":\"x\",\"y\":[15,30,45,65,45,70,65,90,100,70,100,45,70,60,48,58,130,100,25,35,65,65,35,65,70,48,50,20,160,90,50,45,65,95,130,105,70,120,100,45,85,43,55,80,50,70,95,40,50,75,55,75,54,76,76,60,60],\"yaxis\":\"y\",\"type\":\"scatter\"},{\"customdata\":[[\"Geodude\"],[\"Graveler\"],[\"Golem\"],[\"Onix\"],[\"Omanyte\"],[\"Omastar\"],[\"Kabuto\"],[\"Kabutops\"],[\"Aerodactyl\"],[\"AerodactylMega Aerodactyl\"],[\"Sudowoodo\"],[\"Larvitar\"],[\"Pupitar\"],[\"Tyranitar\"],[\"TyranitarMega Tyranitar\"],[\"Nosepass\"],[\"Lunatone\"],[\"Solrock\"],[\"Lileep\"],[\"Cradily\"],[\"Anorith\"],[\"Armaldo\"],[\"Regirock\"],[\"Cranidos\"],[\"Rampardos\"],[\"Shieldon\"],[\"Bastiodon\"],[\"Bonsly\"],[\"Probopass\"],[\"Roggenrola\"],[\"Boldore\"],[\"Gigalith\"],[\"Archen\"],[\"Archeops\"],[\"Terrakion\"],[\"Binacle\"],[\"Barbaracle\"],[\"Tyrunt\"],[\"Tyrantrum\"],[\"Amaura\"],[\"Aurorus\"],[\"Carbink\"],[\"Diancie\"],[\"DiancieMega Diancie\"]],\"hovertemplate\":\"Type 1=Rock<br>HP=%{x}<br>Defense=%{y}<br>Name=%{customdata[0]}<extra></extra>\",\"legendgroup\":\"Rock\",\"marker\":{\"color\":\"#EF553B\",\"symbol\":\"diamond\"},\"mode\":\"markers\",\"name\":\"Rock\",\"orientation\":\"v\",\"showlegend\":true,\"x\":[40,55,80,35,35,70,30,60,80,80,70,50,70,100,100,30,70,70,66,86,45,75,80,67,97,30,60,50,60,55,70,85,55,75,91,42,72,58,82,77,123,50,50,50],\"xaxis\":\"x\",\"y\":[100,115,130,160,100,125,90,105,65,85,115,50,70,110,150,135,65,85,77,97,50,100,200,40,60,118,168,95,145,85,105,130,45,65,90,67,115,77,119,50,72,150,150,110],\"yaxis\":\"y\",\"type\":\"scatter\"},{\"customdata\":[[\"Gastly\"],[\"Haunter\"],[\"Gengar\"],[\"GengarMega Gengar\"],[\"Misdreavus\"],[\"Shuppet\"],[\"Banette\"],[\"BanetteMega Banette\"],[\"Duskull\"],[\"Dusclops\"],[\"Drifloon\"],[\"Drifblim\"],[\"Mismagius\"],[\"Spiritomb\"],[\"Dusknoir\"],[\"GiratinaAltered Forme\"],[\"GiratinaOrigin Forme\"],[\"Yamask\"],[\"Cofagrigus\"],[\"Litwick\"],[\"Lampent\"],[\"Chandelure\"],[\"Phantump\"],[\"Trevenant\"],[\"PumpkabooAverage Size\"],[\"PumpkabooSmall Size\"],[\"PumpkabooLarge Size\"],[\"PumpkabooSuper Size\"],[\"GourgeistAverage Size\"],[\"GourgeistSmall Size\"],[\"GourgeistLarge Size\"],[\"GourgeistSuper Size\"]],\"hovertemplate\":\"Type 1=Ghost<br>HP=%{x}<br>Defense=%{y}<br>Name=%{customdata[0]}<extra></extra>\",\"legendgroup\":\"Ghost\",\"marker\":{\"color\":\"#00cc96\",\"symbol\":\"square\"},\"mode\":\"markers\",\"name\":\"Ghost\",\"orientation\":\"v\",\"showlegend\":true,\"x\":[30,45,60,60,60,44,64,64,20,40,90,150,60,50,45,150,150,38,58,50,60,60,43,85,49,44,54,59,65,55,75,85],\"xaxis\":\"x\",\"y\":[30,45,60,80,60,35,65,75,90,130,34,44,60,108,135,120,100,85,145,55,60,90,48,76,70,70,70,70,122,122,122,122],\"yaxis\":\"y\",\"type\":\"scatter\"},{\"customdata\":[[\"Jynx\"],[\"Articuno\"],[\"Swinub\"],[\"Piloswine\"],[\"Delibird\"],[\"Smoochum\"],[\"Snorunt\"],[\"Glalie\"],[\"GlalieMega Glalie\"],[\"Spheal\"],[\"Sealeo\"],[\"Walrein\"],[\"Regice\"],[\"Glaceon\"],[\"Mamoswine\"],[\"Froslass\"],[\"Vanillite\"],[\"Vanillish\"],[\"Vanilluxe\"],[\"Cubchoo\"],[\"Beartic\"],[\"Cryogonal\"],[\"Bergmite\"],[\"Avalugg\"]],\"hovertemplate\":\"Type 1=Ice<br>HP=%{x}<br>Defense=%{y}<br>Name=%{customdata[0]}<extra></extra>\",\"legendgroup\":\"Ice\",\"marker\":{\"color\":\"#ab63fa\",\"symbol\":\"x\"},\"mode\":\"markers\",\"name\":\"Ice\",\"orientation\":\"v\",\"showlegend\":true,\"x\":[65,90,50,100,45,45,50,80,80,70,90,110,80,65,110,70,36,51,71,55,95,70,55,95],\"xaxis\":\"x\",\"y\":[35,100,40,80,45,15,50,80,80,50,70,90,100,110,80,70,50,65,85,40,80,30,85,184],\"yaxis\":\"y\",\"type\":\"scatter\"},{\"customdata\":[[\"Dratini\"],[\"Dragonair\"],[\"Dragonite\"],[\"Altaria\"],[\"AltariaMega Altaria\"],[\"Bagon\"],[\"Shelgon\"],[\"Salamence\"],[\"SalamenceMega Salamence\"],[\"Latias\"],[\"LatiasMega Latias\"],[\"Latios\"],[\"LatiosMega Latios\"],[\"Rayquaza\"],[\"RayquazaMega Rayquaza\"],[\"Gible\"],[\"Gabite\"],[\"Garchomp\"],[\"GarchompMega Garchomp\"],[\"Axew\"],[\"Fraxure\"],[\"Haxorus\"],[\"Druddigon\"],[\"Reshiram\"],[\"Zekrom\"],[\"Kyurem\"],[\"KyuremBlack Kyurem\"],[\"KyuremWhite Kyurem\"],[\"Goomy\"],[\"Sliggoo\"],[\"Goodra\"],[\"Zygarde50% Forme\"]],\"hovertemplate\":\"Type 1=Dragon<br>HP=%{x}<br>Defense=%{y}<br>Name=%{customdata[0]}<extra></extra>\",\"legendgroup\":\"Dragon\",\"marker\":{\"color\":\"#FFA15A\",\"symbol\":\"cross\"},\"mode\":\"markers\",\"name\":\"Dragon\",\"orientation\":\"v\",\"showlegend\":true,\"x\":[41,61,91,75,75,45,65,95,95,80,80,80,80,105,105,58,68,108,108,46,66,76,77,100,100,125,125,125,45,68,90,108],\"xaxis\":\"x\",\"y\":[45,65,95,90,110,60,100,80,130,90,120,80,100,90,100,45,65,95,115,60,70,90,90,100,120,90,100,90,35,53,70,121],\"yaxis\":\"y\",\"type\":\"scatter\"},{\"customdata\":[[\"Umbreon\"],[\"Murkrow\"],[\"Sneasel\"],[\"Houndour\"],[\"Houndoom\"],[\"HoundoomMega Houndoom\"],[\"Poochyena\"],[\"Mightyena\"],[\"Sableye\"],[\"SableyeMega Sableye\"],[\"Absol\"],[\"AbsolMega Absol\"],[\"Honchkrow\"],[\"Weavile\"],[\"Darkrai\"],[\"Purrloin\"],[\"Liepard\"],[\"Scraggy\"],[\"Scrafty\"],[\"Zorua\"],[\"Zoroark\"],[\"Pawniard\"],[\"Bisharp\"],[\"Vullaby\"],[\"Mandibuzz\"],[\"Deino\"],[\"Zweilous\"],[\"Hydreigon\"],[\"Inkay\"],[\"Malamar\"],[\"Yveltal\"]],\"hovertemplate\":\"Type 1=Dark<br>HP=%{x}<br>Defense=%{y}<br>Name=%{customdata[0]}<extra></extra>\",\"legendgroup\":\"Dark\",\"marker\":{\"color\":\"#19d3f3\",\"symbol\":\"circle\"},\"mode\":\"markers\",\"name\":\"Dark\",\"orientation\":\"v\",\"showlegend\":true,\"x\":[95,60,55,45,75,75,35,70,50,50,65,65,100,70,70,41,64,50,65,40,60,45,65,70,110,52,72,92,53,86,126],\"xaxis\":\"x\",\"y\":[110,42,55,30,50,90,35,70,75,125,60,60,52,65,90,37,50,70,115,40,60,70,100,75,105,50,70,90,53,88,95],\"yaxis\":\"y\",\"type\":\"scatter\"},{\"customdata\":[[\"Steelix\"],[\"SteelixMega Steelix\"],[\"Skarmory\"],[\"Mawile\"],[\"MawileMega Mawile\"],[\"Aron\"],[\"Lairon\"],[\"Aggron\"],[\"AggronMega Aggron\"],[\"Beldum\"],[\"Metang\"],[\"Metagross\"],[\"MetagrossMega Metagross\"],[\"Registeel\"],[\"Jirachi\"],[\"Bronzor\"],[\"Bronzong\"],[\"Dialga\"],[\"Klink\"],[\"Klang\"],[\"Klinklang\"],[\"Cobalion\"],[\"Honedge\"],[\"Doublade\"],[\"AegislashBlade Forme\"],[\"AegislashShield Forme\"],[\"Klefki\"]],\"hovertemplate\":\"Type 1=Steel<br>HP=%{x}<br>Defense=%{y}<br>Name=%{customdata[0]}<extra></extra>\",\"legendgroup\":\"Steel\",\"marker\":{\"color\":\"#FF6692\",\"symbol\":\"diamond\"},\"mode\":\"markers\",\"name\":\"Steel\",\"orientation\":\"v\",\"showlegend\":true,\"x\":[75,75,65,50,50,50,60,70,70,40,60,80,80,80,100,57,67,100,40,60,60,91,45,59,60,60,57],\"xaxis\":\"x\",\"y\":[200,230,140,85,125,100,140,180,230,80,100,130,150,150,100,86,116,120,70,95,115,129,100,150,50,150,91],\"yaxis\":\"y\",\"type\":\"scatter\"},{\"customdata\":[[\"TornadusIncarnate Forme\"],[\"TornadusTherian Forme\"],[\"Noibat\"],[\"Noivern\"]],\"hovertemplate\":\"Type 1=Flying<br>HP=%{x}<br>Defense=%{y}<br>Name=%{customdata[0]}<extra></extra>\",\"legendgroup\":\"Flying\",\"marker\":{\"color\":\"#B6E880\",\"symbol\":\"square\"},\"mode\":\"markers\",\"name\":\"Flying\",\"orientation\":\"v\",\"showlegend\":true,\"x\":[79,79,40,85],\"xaxis\":\"x\",\"y\":[70,80,35,80],\"yaxis\":\"y\",\"type\":\"scatter\"}],                        {\"template\":{\"data\":{\"histogram2dcontour\":[{\"type\":\"histogram2dcontour\",\"colorbar\":{\"outlinewidth\":0,\"ticks\":\"\"},\"colorscale\":[[0.0,\"#0d0887\"],[0.1111111111111111,\"#46039f\"],[0.2222222222222222,\"#7201a8\"],[0.3333333333333333,\"#9c179e\"],[0.4444444444444444,\"#bd3786\"],[0.5555555555555556,\"#d8576b\"],[0.6666666666666666,\"#ed7953\"],[0.7777777777777778,\"#fb9f3a\"],[0.8888888888888888,\"#fdca26\"],[1.0,\"#f0f921\"]]}],\"choropleth\":[{\"type\":\"choropleth\",\"colorbar\":{\"outlinewidth\":0,\"ticks\":\"\"}}],\"histogram2d\":[{\"type\":\"histogram2d\",\"colorbar\":{\"outlinewidth\":0,\"ticks\":\"\"},\"colorscale\":[[0.0,\"#0d0887\"],[0.1111111111111111,\"#46039f\"],[0.2222222222222222,\"#7201a8\"],[0.3333333333333333,\"#9c179e\"],[0.4444444444444444,\"#bd3786\"],[0.5555555555555556,\"#d8576b\"],[0.6666666666666666,\"#ed7953\"],[0.7777777777777778,\"#fb9f3a\"],[0.8888888888888888,\"#fdca26\"],[1.0,\"#f0f921\"]]}],\"heatmap\":[{\"type\":\"heatmap\",\"colorbar\":{\"outlinewidth\":0,\"ticks\":\"\"},\"colorscale\":[[0.0,\"#0d0887\"],[0.1111111111111111,\"#46039f\"],[0.2222222222222222,\"#7201a8\"],[0.3333333333333333,\"#9c179e\"],[0.4444444444444444,\"#bd3786\"],[0.5555555555555556,\"#d8576b\"],[0.6666666666666666,\"#ed7953\"],[0.7777777777777778,\"#fb9f3a\"],[0.8888888888888888,\"#fdca26\"],[1.0,\"#f0f921\"]]}],\"heatmapgl\":[{\"type\":\"heatmapgl\",\"colorbar\":{\"outlinewidth\":0,\"ticks\":\"\"},\"colorscale\":[[0.0,\"#0d0887\"],[0.1111111111111111,\"#46039f\"],[0.2222222222222222,\"#7201a8\"],[0.3333333333333333,\"#9c179e\"],[0.4444444444444444,\"#bd3786\"],[0.5555555555555556,\"#d8576b\"],[0.6666666666666666,\"#ed7953\"],[0.7777777777777778,\"#fb9f3a\"],[0.8888888888888888,\"#fdca26\"],[1.0,\"#f0f921\"]]}],\"contourcarpet\":[{\"type\":\"contourcarpet\",\"colorbar\":{\"outlinewidth\":0,\"ticks\":\"\"}}],\"contour\":[{\"type\":\"contour\",\"colorbar\":{\"outlinewidth\":0,\"ticks\":\"\"},\"colorscale\":[[0.0,\"#0d0887\"],[0.1111111111111111,\"#46039f\"],[0.2222222222222222,\"#7201a8\"],[0.3333333333333333,\"#9c179e\"],[0.4444444444444444,\"#bd3786\"],[0.5555555555555556,\"#d8576b\"],[0.6666666666666666,\"#ed7953\"],[0.7777777777777778,\"#fb9f3a\"],[0.8888888888888888,\"#fdca26\"],[1.0,\"#f0f921\"]]}],\"surface\":[{\"type\":\"surface\",\"colorbar\":{\"outlinewidth\":0,\"ticks\":\"\"},\"colorscale\":[[0.0,\"#0d0887\"],[0.1111111111111111,\"#46039f\"],[0.2222222222222222,\"#7201a8\"],[0.3333333333333333,\"#9c179e\"],[0.4444444444444444,\"#bd3786\"],[0.5555555555555556,\"#d8576b\"],[0.6666666666666666,\"#ed7953\"],[0.7777777777777778,\"#fb9f3a\"],[0.8888888888888888,\"#fdca26\"],[1.0,\"#f0f921\"]]}],\"mesh3d\":[{\"type\":\"mesh3d\",\"colorbar\":{\"outlinewidth\":0,\"ticks\":\"\"}}],\"scatter\":[{\"fillpattern\":{\"fillmode\":\"overlay\",\"size\":10,\"solidity\":0.2},\"type\":\"scatter\"}],\"parcoords\":[{\"type\":\"parcoords\",\"line\":{\"colorbar\":{\"outlinewidth\":0,\"ticks\":\"\"}}}],\"scatterpolargl\":[{\"type\":\"scatterpolargl\",\"marker\":{\"colorbar\":{\"outlinewidth\":0,\"ticks\":\"\"}}}],\"bar\":[{\"error_x\":{\"color\":\"#2a3f5f\"},\"error_y\":{\"color\":\"#2a3f5f\"},\"marker\":{\"line\":{\"color\":\"#E5ECF6\",\"width\":0.5},\"pattern\":{\"fillmode\":\"overlay\",\"size\":10,\"solidity\":0.2}},\"type\":\"bar\"}],\"scattergeo\":[{\"type\":\"scattergeo\",\"marker\":{\"colorbar\":{\"outlinewidth\":0,\"ticks\":\"\"}}}],\"scatterpolar\":[{\"type\":\"scatterpolar\",\"marker\":{\"colorbar\":{\"outlinewidth\":0,\"ticks\":\"\"}}}],\"histogram\":[{\"marker\":{\"pattern\":{\"fillmode\":\"overlay\",\"size\":10,\"solidity\":0.2}},\"type\":\"histogram\"}],\"scattergl\":[{\"type\":\"scattergl\",\"marker\":{\"colorbar\":{\"outlinewidth\":0,\"ticks\":\"\"}}}],\"scatter3d\":[{\"type\":\"scatter3d\",\"line\":{\"colorbar\":{\"outlinewidth\":0,\"ticks\":\"\"}},\"marker\":{\"colorbar\":{\"outlinewidth\":0,\"ticks\":\"\"}}}],\"scattermapbox\":[{\"type\":\"scattermapbox\",\"marker\":{\"colorbar\":{\"outlinewidth\":0,\"ticks\":\"\"}}}],\"scatterternary\":[{\"type\":\"scatterternary\",\"marker\":{\"colorbar\":{\"outlinewidth\":0,\"ticks\":\"\"}}}],\"scattercarpet\":[{\"type\":\"scattercarpet\",\"marker\":{\"colorbar\":{\"outlinewidth\":0,\"ticks\":\"\"}}}],\"carpet\":[{\"aaxis\":{\"endlinecolor\":\"#2a3f5f\",\"gridcolor\":\"white\",\"linecolor\":\"white\",\"minorgridcolor\":\"white\",\"startlinecolor\":\"#2a3f5f\"},\"baxis\":{\"endlinecolor\":\"#2a3f5f\",\"gridcolor\":\"white\",\"linecolor\":\"white\",\"minorgridcolor\":\"white\",\"startlinecolor\":\"#2a3f5f\"},\"type\":\"carpet\"}],\"table\":[{\"cells\":{\"fill\":{\"color\":\"#EBF0F8\"},\"line\":{\"color\":\"white\"}},\"header\":{\"fill\":{\"color\":\"#C8D4E3\"},\"line\":{\"color\":\"white\"}},\"type\":\"table\"}],\"barpolar\":[{\"marker\":{\"line\":{\"color\":\"#E5ECF6\",\"width\":0.5},\"pattern\":{\"fillmode\":\"overlay\",\"size\":10,\"solidity\":0.2}},\"type\":\"barpolar\"}],\"pie\":[{\"automargin\":true,\"type\":\"pie\"}]},\"layout\":{\"autotypenumbers\":\"strict\",\"colorway\":[\"#636efa\",\"#EF553B\",\"#00cc96\",\"#ab63fa\",\"#FFA15A\",\"#19d3f3\",\"#FF6692\",\"#B6E880\",\"#FF97FF\",\"#FECB52\"],\"font\":{\"color\":\"#2a3f5f\"},\"hovermode\":\"closest\",\"hoverlabel\":{\"align\":\"left\"},\"paper_bgcolor\":\"white\",\"plot_bgcolor\":\"#E5ECF6\",\"polar\":{\"bgcolor\":\"#E5ECF6\",\"angularaxis\":{\"gridcolor\":\"white\",\"linecolor\":\"white\",\"ticks\":\"\"},\"radialaxis\":{\"gridcolor\":\"white\",\"linecolor\":\"white\",\"ticks\":\"\"}},\"ternary\":{\"bgcolor\":\"#E5ECF6\",\"aaxis\":{\"gridcolor\":\"white\",\"linecolor\":\"white\",\"ticks\":\"\"},\"baxis\":{\"gridcolor\":\"white\",\"linecolor\":\"white\",\"ticks\":\"\"},\"caxis\":{\"gridcolor\":\"white\",\"linecolor\":\"white\",\"ticks\":\"\"}},\"coloraxis\":{\"colorbar\":{\"outlinewidth\":0,\"ticks\":\"\"}},\"colorscale\":{\"sequential\":[[0.0,\"#0d0887\"],[0.1111111111111111,\"#46039f\"],[0.2222222222222222,\"#7201a8\"],[0.3333333333333333,\"#9c179e\"],[0.4444444444444444,\"#bd3786\"],[0.5555555555555556,\"#d8576b\"],[0.6666666666666666,\"#ed7953\"],[0.7777777777777778,\"#fb9f3a\"],[0.8888888888888888,\"#fdca26\"],[1.0,\"#f0f921\"]],\"sequentialminus\":[[0.0,\"#0d0887\"],[0.1111111111111111,\"#46039f\"],[0.2222222222222222,\"#7201a8\"],[0.3333333333333333,\"#9c179e\"],[0.4444444444444444,\"#bd3786\"],[0.5555555555555556,\"#d8576b\"],[0.6666666666666666,\"#ed7953\"],[0.7777777777777778,\"#fb9f3a\"],[0.8888888888888888,\"#fdca26\"],[1.0,\"#f0f921\"]],\"diverging\":[[0,\"#8e0152\"],[0.1,\"#c51b7d\"],[0.2,\"#de77ae\"],[0.3,\"#f1b6da\"],[0.4,\"#fde0ef\"],[0.5,\"#f7f7f7\"],[0.6,\"#e6f5d0\"],[0.7,\"#b8e186\"],[0.8,\"#7fbc41\"],[0.9,\"#4d9221\"],[1,\"#276419\"]]},\"xaxis\":{\"gridcolor\":\"white\",\"linecolor\":\"white\",\"ticks\":\"\",\"title\":{\"standoff\":15},\"zerolinecolor\":\"white\",\"automargin\":true,\"zerolinewidth\":2},\"yaxis\":{\"gridcolor\":\"white\",\"linecolor\":\"white\",\"ticks\":\"\",\"title\":{\"standoff\":15},\"zerolinecolor\":\"white\",\"automargin\":true,\"zerolinewidth\":2},\"scene\":{\"xaxis\":{\"backgroundcolor\":\"#E5ECF6\",\"gridcolor\":\"white\",\"linecolor\":\"white\",\"showbackground\":true,\"ticks\":\"\",\"zerolinecolor\":\"white\",\"gridwidth\":2},\"yaxis\":{\"backgroundcolor\":\"#E5ECF6\",\"gridcolor\":\"white\",\"linecolor\":\"white\",\"showbackground\":true,\"ticks\":\"\",\"zerolinecolor\":\"white\",\"gridwidth\":2},\"zaxis\":{\"backgroundcolor\":\"#E5ECF6\",\"gridcolor\":\"white\",\"linecolor\":\"white\",\"showbackground\":true,\"ticks\":\"\",\"zerolinecolor\":\"white\",\"gridwidth\":2}},\"shapedefaults\":{\"line\":{\"color\":\"#2a3f5f\"}},\"annotationdefaults\":{\"arrowcolor\":\"#2a3f5f\",\"arrowhead\":0,\"arrowwidth\":1},\"geo\":{\"bgcolor\":\"white\",\"landcolor\":\"#E5ECF6\",\"subunitcolor\":\"white\",\"showland\":true,\"showlakes\":true,\"lakecolor\":\"white\"},\"title\":{\"x\":0.05},\"mapbox\":{\"style\":\"light\"}}},\"xaxis\":{\"anchor\":\"y\",\"domain\":[0.0,1.0],\"title\":{\"text\":\"HP\"}},\"yaxis\":{\"anchor\":\"x\",\"domain\":[0.0,1.0],\"title\":{\"text\":\"Defense\"}},\"legend\":{\"title\":{\"text\":\"Type 1\"},\"tracegroupgap\":0},\"margin\":{\"t\":60}},                        {\"responsive\": true}                    ).then(function(){\n",
              "                            \n",
              "var gd = document.getElementById('126b6614-a94e-4ede-82c2-92edc721cc9e');\n",
              "var x = new MutationObserver(function (mutations, observer) {{\n",
              "        var display = window.getComputedStyle(gd).display;\n",
              "        if (!display || display === 'none') {{\n",
              "            console.log([gd, 'removed!']);\n",
              "            Plotly.purge(gd);\n",
              "            observer.disconnect();\n",
              "        }}\n",
              "}});\n",
              "\n",
              "// Listen for the removal of the full notebook cells\n",
              "var notebookContainer = gd.closest('#notebook-container');\n",
              "if (notebookContainer) {{\n",
              "    x.observe(notebookContainer, {childList: true});\n",
              "}}\n",
              "\n",
              "// Listen for the clearing of the current output cell\n",
              "var outputEl = gd.closest('.output');\n",
              "if (outputEl) {{\n",
              "    x.observe(outputEl, {childList: true});\n",
              "}}\n",
              "\n",
              "                        })                };                            </script>        </div>\n",
              "</body>\n",
              "</html>"
            ]
          },
          "metadata": {}
        }
      ]
    },
    {
      "cell_type": "code",
      "source": [
        "'''\n",
        "找出Type 1=Fire的pokemon的HP平均值。\n",
        "'''\n",
        "import pandas as pd\n",
        "import numpy as np\n",
        "df=pd.read_csv('pokemon.csv')\n",
        "df=df[df['Type 1']=='Fire'] #先篩選出Type 1=='Fire'\n",
        "print(np.mean(df['HP'])) #HP平均"
      ],
      "metadata": {
        "colab": {
          "base_uri": "https://localhost:8080/"
        },
        "id": "cw0_ZuCKnxBp",
        "outputId": "7bd60419-a28e-4b1a-a6fb-e1d19dc69645"
      },
      "execution_count": null,
      "outputs": [
        {
          "output_type": "stream",
          "name": "stdout",
          "text": [
            "69.90384615384616\n"
          ]
        }
      ]
    },
    {
      "cell_type": "code",
      "source": [
        "'''\n",
        "找出Type 1所有屬性pokemon的HP平均最高、最低值。\n",
        "'''\n",
        "import pandas as pd\n",
        "df=pd.read_csv('pokemon.csv')\n",
        "sort_df=df.groupby('Type 1').mean().sort_values(by=['HP'],ascending=False)['HP']\n",
        "print(sort_df)\n",
        "print(sort_df.keys()[0],sort_df[0])\n",
        "print(sort_df.keys()[-1],sort_df[-1])\n"
      ],
      "metadata": {
        "colab": {
          "base_uri": "https://localhost:8080/"
        },
        "id": "se9JPcjQsjzq",
        "outputId": "fe40bb81-0b98-48ec-dc92-c3229d07f691"
      },
      "execution_count": 5,
      "outputs": [
        {
          "output_type": "stream",
          "name": "stdout",
          "text": [
            "Type 1\n",
            "Dragon      83.312500\n",
            "Normal      77.275510\n",
            "Fairy       74.117647\n",
            "Ground      73.781250\n",
            "Water       72.062500\n",
            "Ice         72.000000\n",
            "Flying      70.750000\n",
            "Psychic     70.631579\n",
            "Fire        69.903846\n",
            "Fighting    69.851852\n",
            "Grass       67.271429\n",
            "Poison      67.250000\n",
            "Dark        66.806452\n",
            "Rock        65.363636\n",
            "Steel       65.222222\n",
            "Ghost       64.437500\n",
            "Electric    59.795455\n",
            "Bug         56.884058\n",
            "Name: HP, dtype: float64\n",
            "Dragon 83.3125\n",
            "Bug 56.88405797101449\n"
          ]
        }
      ]
    },
    {
      "cell_type": "code",
      "source": [
        "'''\n",
        "選出Attack最高前五名的pokemon。\n",
        "'''\n",
        "import pandas as pd\n",
        "df=pd.read_csv('pokemon.csv')\n",
        "df=df.sort_values('Attack',ascending=False)[:5]\n",
        "\n",
        "print(df[['Name','Attack']])"
      ],
      "metadata": {
        "id": "T9jwY8KfyS2l",
        "colab": {
          "base_uri": "https://localhost:8080/"
        },
        "outputId": "297f74da-87e0-42c4-d55d-9f99e2d41822"
      },
      "execution_count": 17,
      "outputs": [
        {
          "output_type": "stream",
          "name": "stdout",
          "text": [
            "                        Name  Attack\n",
            "163      MewtwoMega Mewtwo X     190\n",
            "232  HeracrossMega Heracross     185\n",
            "424    GroudonPrimal Groudon     180\n",
            "426    RayquazaMega Rayquaza     180\n",
            "429       DeoxysAttack Forme     180\n"
          ]
        }
      ]
    },
    {
      "cell_type": "code",
      "source": [
        "'''\n",
        "選出Attack、Defense同時為前20名的pokemon。\n",
        "'''\n",
        "import pandas as pd\n",
        "df=pd.read_csv('pokemon.csv')\n",
        "df_Attack20=df.sort_values(by='Attack',ascending=False)[['Name','Attack']][:20]\n",
        "df_Defense20=df.sort_values(by='Defense',ascending=False)[['Name','Defense']][:20]\n",
        "print(df_Attack20)\n",
        "print(df_Defense20)\n",
        "df_intersect=df_Attack20.index.intersection(df_Defense20.index)\n",
        "print(df_intersect)#利用兩個資料表的索引交集\n",
        "print(df_Attack20.filter(items=df_intersect,axis=0)[['Name']])"
      ],
      "metadata": {
        "colab": {
          "base_uri": "https://localhost:8080/"
        },
        "id": "D3TS8Sm6ionS",
        "outputId": "e6e2fd0e-c862-475d-8222-0b5103aaf6ed"
      },
      "execution_count": 37,
      "outputs": [
        {
          "output_type": "stream",
          "name": "stdout",
          "text": [
            "                        Name  Attack\n",
            "163      MewtwoMega Mewtwo X     190\n",
            "232  HeracrossMega Heracross     185\n",
            "424    GroudonPrimal Groudon     180\n",
            "426    RayquazaMega Rayquaza     180\n",
            "429       DeoxysAttack Forme     180\n",
            "711       KyuremBlack Kyurem     170\n",
            "494    GarchompMega Garchomp     170\n",
            "527      GalladeMega Gallade     165\n",
            "387      BanetteMega Banette     165\n",
            "454                Rampardos     165\n",
            "268  TyranitarMega Tyranitar     164\n",
            "313                  Slaking     160\n",
            "543                Regigigas     160\n",
            "796      DiancieMega Diancie     160\n",
            "798       HoopaHoopa Unbound     160\n",
            "279    BlazikenMega Blaziken     160\n",
            "137        PinsirMega Pinsir     155\n",
            "141    GyaradosMega Gyarados     155\n",
            "393          AbsolMega Absol     150\n",
            "422      KyogrePrimal Kyogre     150\n",
            "                        Name  Defense\n",
            "230                  Shuckle      230\n",
            "224      SteelixMega Steelix      230\n",
            "333        AggronMega Aggron      230\n",
            "223                  Steelix      200\n",
            "414                 Regirock      200\n",
            "789                  Avalugg      184\n",
            "98                  Cloyster      180\n",
            "87       SlowbroMega Slowbro      180\n",
            "332                   Aggron      180\n",
            "456                Bastiodon      168\n",
            "103                     Onix      160\n",
            "424    GroudonPrimal Groudon      160\n",
            "430      DeoxysDefense Forme      160\n",
            "749                 Doublade      150\n",
            "268  TyranitarMega Tyranitar      150\n",
            "413  MetagrossMega Metagross      150\n",
            "751    AegislashShield Forme      150\n",
            "416                Registeel      150\n",
            "773                  Carbink      150\n",
            "795                  Diancie      150\n",
            "Int64Index([424, 268], dtype='int64')\n",
            "                        Name\n",
            "424    GroudonPrimal Groudon\n",
            "268  TyranitarMega Tyranitar\n"
          ]
        }
      ]
    },
    {
      "cell_type": "markdown",
      "source": [
        "#練習題二\n",
        "解線性聯立方程組最簡單的解法是利用線性代數的方法，請解下面的方程組：  \n",
        "$ \\left\\{\n",
        "    \\begin{matrix}\n",
        "        2x+3y-4z+w &=& 5\\\\\n",
        "        x-2y+3z-2w &=& -3\\\\\n",
        "        3x+5y+z-w &=& 20\\\\\n",
        "        4x+y-z+w &=& 5\\\\\n",
        "    \\end{matrix}\n",
        "\\right. $\n",
        "1. 寫出係數矩陣A。\n",
        "2. 寫出常數矩陣B。\n",
        "3. 找出係數矩陣的反矩陣 $A^{-1}$\n",
        "4. 將$A^{-1}$與B相乘，即可得到解答（$x=A^{-1}B$）\n",
        "\n",
        "**反矩陣方法 numpy.linalg.inv()**"
      ],
      "metadata": {
        "id": "oPkMiixO8PY2"
      }
    },
    {
      "cell_type": "code",
      "source": [
        "import numpy as np\n",
        "coarr=np.array([[2,3,-4,1],[1,-2,3,-2],[3,5,1,-1],[4,1,-1,1]])\n",
        "print(coarr)"
      ],
      "metadata": {
        "id": "lCddg1ouYVbb",
        "colab": {
          "base_uri": "https://localhost:8080/"
        },
        "outputId": "efc2e12d-1414-4ae0-d756-7608827f2217"
      },
      "execution_count": 39,
      "outputs": [
        {
          "output_type": "stream",
          "name": "stdout",
          "text": [
            "[[ 2  3 -4  1]\n",
            " [ 1 -2  3 -2]\n",
            " [ 3  5  1 -1]\n",
            " [ 4  1 -1  1]]\n"
          ]
        }
      ]
    },
    {
      "cell_type": "code",
      "source": [
        "conarr=np.array([[5],[-3],[20],[5]])\n",
        "print(conarr)"
      ],
      "metadata": {
        "id": "Ic9w1gN79Vlv",
        "colab": {
          "base_uri": "https://localhost:8080/"
        },
        "outputId": "58259ea5-f1a1-44ff-b642-a8ab841c5066"
      },
      "execution_count": 45,
      "outputs": [
        {
          "output_type": "stream",
          "name": "stdout",
          "text": [
            "[[ 5]\n",
            " [-3]\n",
            " [20]\n",
            " [ 5]]\n"
          ]
        }
      ]
    },
    {
      "cell_type": "code",
      "source": [
        "coinv=np.linalg.inv(coarr)\n",
        "print(coinv)"
      ],
      "metadata": {
        "colab": {
          "base_uri": "https://localhost:8080/"
        },
        "id": "6ORydfy_o_nl",
        "outputId": "8b425f69-1a57-48c9-e3ee-63836d0b27f0"
      },
      "execution_count": 46,
      "outputs": [
        {
          "output_type": "stream",
          "name": "stdout",
          "text": [
            "[[ 0.04411765  0.13235294 -0.01470588  0.20588235]\n",
            " [-0.05147059 -0.15441176  0.18382353 -0.07352941]\n",
            " [-0.39705882 -0.19117647  0.13235294  0.14705882]\n",
            " [-0.52205882 -0.56617647  0.00735294  0.39705882]]\n"
          ]
        }
      ]
    },
    {
      "cell_type": "code",
      "source": [
        "ans=coinv.dot(conarr)\n",
        "print(ans)"
      ],
      "metadata": {
        "colab": {
          "base_uri": "https://localhost:8080/"
        },
        "id": "bDwlI70gpJ1G",
        "outputId": "670b6704-e862-4b18-a128-34c82f113202"
      },
      "execution_count": 47,
      "outputs": [
        {
          "output_type": "stream",
          "name": "stdout",
          "text": [
            "[[0.55882353]\n",
            " [3.51470588]\n",
            " [1.97058824]\n",
            " [1.22058824]]\n"
          ]
        }
      ]
    },
    {
      "cell_type": "code",
      "source": [],
      "metadata": {
        "id": "JLw9Hf5TpPwD"
      },
      "execution_count": null,
      "outputs": []
    }
  ]
}