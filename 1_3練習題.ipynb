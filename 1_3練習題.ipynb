{
  "nbformat": 4,
  "nbformat_minor": 0,
  "metadata": {
    "colab": {
      "provenance": [],
      "authorship_tag": "ABX9TyPdUNaeWOM4KrX8fp70498O",
      "include_colab_link": true
    },
    "kernelspec": {
      "name": "python3",
      "display_name": "Python 3"
    },
    "language_info": {
      "name": "python"
    }
  },
  "cells": [
    {
      "cell_type": "markdown",
      "metadata": {
        "id": "view-in-github",
        "colab_type": "text"
      },
      "source": [
        "<a href=\"https://colab.research.google.com/github/weilipan/MachineLearing/blob/main/1_3%E7%B7%B4%E7%BF%92%E9%A1%8C.ipynb\" target=\"_parent\"><img src=\"https://colab.research.google.com/assets/colab-badge.svg\" alt=\"Open In Colab\"/></a>"
      ]
    },
    {
      "cell_type": "markdown",
      "source": [
        "#練習題一\n",
        "\n",
        "1. 下載pokemon檔案。#下載寶可夢檔案\n",
        "!wget pokemon.csv https://gist.githubusercontent.com/armgilles/194bcff35001e7eb53a2a8b441e8b2c6/raw/92200bc0a673d5ce2110aaad4544ed6c4010f687/pokemon.csv   \n",
        "2. 針對HP,Attack,...,Speed欄位，繪製箱型圖。  \n",
        "3. 針對Attack,Defense欄位繪製散點圖，並找出「攻防一體皆強」的pokemon。  \n",
        "4. 找出Type 1=Fire的pokemon的HP平均值。  \n",
        "5. 找出Type 1所有屬性pokemon的HP平均最高、最低值。  \n",
        "6.選出Attack最高前五名的pokemon。  \n",
        "7.選出Attack、Defense同時為前20名的pokemon。"
      ],
      "metadata": {
        "id": "jKWkzzHw67c0"
      }
    },
    {
      "cell_type": "code",
      "execution_count": null,
      "metadata": {
        "id": "K5FCzdRR6vHU"
      },
      "outputs": [],
      "source": []
    },
    {
      "cell_type": "markdown",
      "source": [
        "#練習題二\n",
        "解線性聯立方程組最簡單的解法是利用線性代數的方法，請解下面的方程組：  \n",
        "$ \\left\\{\n",
        "    \\begin{matrix}\n",
        "        2x+3y-4z+w &=& 5\\\\\n",
        "        x-2y+3z-2w &=& -3\\\\\n",
        "        3x+5y+z-w &=& 20\\\\\n",
        "        4x+y-z+w &=& 5\\\\\n",
        "    \\end{matrix}\n",
        "\\right. $\n",
        "1. 寫出係數矩陣A。\n",
        "2. 寫出常數矩陣B。\n",
        "3. 找出係數矩陣的反矩陣 $A^{-1}$\n",
        "4. 將$A^{-1}$與B相乘，即可得到解答（$x=A^{-1}B$）\n",
        "\n",
        "**反矩陣方法 numpy.linalg.inv()**"
      ],
      "metadata": {
        "id": "oPkMiixO8PY2"
      }
    },
    {
      "cell_type": "code",
      "source": [],
      "metadata": {
        "id": "Ic9w1gN79Vlv"
      },
      "execution_count": null,
      "outputs": []
    }
  ]
}