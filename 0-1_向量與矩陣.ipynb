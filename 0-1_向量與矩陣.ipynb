{
  "nbformat": 4,
  "nbformat_minor": 0,
  "metadata": {
    "colab": {
      "provenance": [],
      "authorship_tag": "ABX9TyPuHwsI/NnepnMVI78UZZKN",
      "include_colab_link": true
    },
    "kernelspec": {
      "name": "python3",
      "display_name": "Python 3"
    },
    "language_info": {
      "name": "python"
    }
  },
  "cells": [
    {
      "cell_type": "markdown",
      "metadata": {
        "id": "view-in-github",
        "colab_type": "text"
      },
      "source": [
        "<a href=\"https://colab.research.google.com/github/weilipan/MachineLearing/blob/main/1_%E5%90%91%E9%87%8F%E8%88%87%E7%9F%A9%E9%99%A3.ipynb\" target=\"_parent\"><img src=\"https://colab.research.google.com/assets/colab-badge.svg\" alt=\"Open In Colab\"/></a>"
      ]
    },
    {
      "cell_type": "markdown",
      "source": [
        "#利用串列來實作向量"
      ],
      "metadata": {
        "id": "2mBGSoOSFEzX"
      }
    },
    {
      "cell_type": "code",
      "execution_count": 5,
      "metadata": {
        "id": "sGnNdPSzE8Lf"
      },
      "outputs": [],
      "source": [
        "#以串列來實作向量\n",
        "A=[i for i in range(1,6)]\n",
        "B=[i for i in range(6,11)]\n",
        "def vector_add(a,b): #向量相加\n",
        "  return [v_a+v_b for v_a,v_b in zip(a,b)]\n",
        "\n",
        "def vector_dot(a,b): #向量內積\n",
        "  return sum([v_a*v_b for v_a,v_b in zip(a,b)])"
      ]
    },
    {
      "cell_type": "code",
      "source": [
        "vector_add(A,B)"
      ],
      "metadata": {
        "id": "B95prLPpF51x",
        "colab": {
          "base_uri": "https://localhost:8080/"
        },
        "outputId": "29870683-0ca3-4380-efb8-f4d0b4f7154c"
      },
      "execution_count": 6,
      "outputs": [
        {
          "output_type": "execute_result",
          "data": {
            "text/plain": [
              "[7, 9, 11, 13, 15]"
            ]
          },
          "metadata": {},
          "execution_count": 6
        }
      ]
    },
    {
      "cell_type": "code",
      "source": [
        "vector_dot(A,B)"
      ],
      "metadata": {
        "colab": {
          "base_uri": "https://localhost:8080/"
        },
        "id": "6CWUmVCrGVDh",
        "outputId": "1d15f8b9-0376-479c-ed2e-3d9dac82ad5d"
      },
      "execution_count": 7,
      "outputs": [
        {
          "output_type": "execute_result",
          "data": {
            "text/plain": [
              "130"
            ]
          },
          "metadata": {},
          "execution_count": 7
        }
      ]
    },
    {
      "cell_type": "markdown",
      "source": [
        "# 利用numpy來處理"
      ],
      "metadata": {
        "id": "psOR89JBGiaF"
      }
    },
    {
      "cell_type": "code",
      "source": [
        "!pip install numpy"
      ],
      "metadata": {
        "colab": {
          "base_uri": "https://localhost:8080/"
        },
        "id": "qBJqk6J8GX8q",
        "outputId": "3725e381-c2cd-4165-f472-14661276451e"
      },
      "execution_count": 8,
      "outputs": [
        {
          "output_type": "stream",
          "name": "stdout",
          "text": [
            "Looking in indexes: https://pypi.org/simple, https://us-python.pkg.dev/colab-wheels/public/simple/\n",
            "Requirement already satisfied: numpy in /usr/local/lib/python3.9/dist-packages (1.22.4)\n"
          ]
        }
      ]
    },
    {
      "cell_type": "code",
      "source": [
        "import numpy as np\n",
        "A=np.array([i for i in range(1,7)])\n",
        "B=np.array([i for i in range(7,13)])\n",
        "print(f'向量相加：{A+B}')\n",
        "print(f'純量、向量相乘：{3*A}')\n",
        "print(f'向量相乘：{A*B}')\n",
        "print(f'向量內積：{np.dot(A,B)}')\n",
        "print(f'向量長度：{np.linalg.norm(A)}')"
      ],
      "metadata": {
        "colab": {
          "base_uri": "https://localhost:8080/"
        },
        "id": "sMS8r1fFGsg4",
        "outputId": "0c79f08a-4d53-4d19-9687-288d95ccb954"
      },
      "execution_count": 12,
      "outputs": [
        {
          "output_type": "stream",
          "name": "stdout",
          "text": [
            "向量相加：[ 8 10 12 14 16 18]\n",
            "純量、向量相乘：[ 3  6  9 12 15 18]\n",
            "向量相乘：[ 7 16 27 40 55 72]\n",
            "向量內積：217\n",
            "向量長度：9.539392014169456\n"
          ]
        }
      ]
    },
    {
      "cell_type": "code",
      "source": [
        "#Numpy提供多維度陣列ndarray,有三個主要屬性:維度(ndim)、形狀(shape)、\n",
        "#數值型態(dtype)，預設的整數型態是int64,浮點數為float64\n",
        "arr=np.array([i for i in range(1,7)])\n",
        "print(arr.ndim)\n",
        "print(arr.shape)#常用\n",
        "print(arr.dtype)"
      ],
      "metadata": {
        "colab": {
          "base_uri": "https://localhost:8080/"
        },
        "id": "auLgv7clHU5R",
        "outputId": "4656f7fa-2b02-443d-9df0-9ffcb45f46c6"
      },
      "execution_count": 13,
      "outputs": [
        {
          "output_type": "stream",
          "name": "stdout",
          "text": [
            "1\n",
            "(6,)\n",
            "int64\n"
          ]
        }
      ]
    },
    {
      "cell_type": "code",
      "source": [
        "#兩種改變陣列的形狀與維度的方法\n",
        "arr.shape=2,3\n",
        "print(arr)\n",
        "arr1=arr.reshape(3,2)\n",
        "print(arr1)"
      ],
      "metadata": {
        "colab": {
          "base_uri": "https://localhost:8080/"
        },
        "id": "j-ETiZTKIEJR",
        "outputId": "c4f739d8-0ae8-4070-bece-fe7dfa93219a"
      },
      "execution_count": 14,
      "outputs": [
        {
          "output_type": "stream",
          "name": "stdout",
          "text": [
            "[[1 2 3]\n",
            " [4 5 6]]\n",
            "[[1 2]\n",
            " [3 4]\n",
            " [5 6]]\n"
          ]
        }
      ]
    },
    {
      "cell_type": "code",
      "source": [
        "#矩陣相乘\n",
        "A=np.array([[1,2,3],[4,5,6]])\n",
        "B=np.array([[1,0,0],[0,1,1],[1,0,1]])\n",
        "print(np.dot(A,B))#矩陣相乘\n",
        "print(A.transpose())#矩陣轉置，也可用A.T\n",
        "print(np.linalg.inv(B))#反矩陣"
      ],
      "metadata": {
        "colab": {
          "base_uri": "https://localhost:8080/"
        },
        "id": "1RyMMIOZITtR",
        "outputId": "354c5d19-cbbf-4c21-8c53-7e540f44f3f8"
      },
      "execution_count": 15,
      "outputs": [
        {
          "output_type": "stream",
          "name": "stdout",
          "text": [
            "[[ 4  2  5]\n",
            " [10  5 11]]\n",
            "[[1 4]\n",
            " [2 5]\n",
            " [3 6]]\n",
            "[[ 1.  0.  0.]\n",
            " [ 1.  1. -1.]\n",
            " [-1.  0.  1.]]\n"
          ]
        }
      ]
    },
    {
      "cell_type": "code",
      "source": [
        "#若矩陣為不可逆(singular)將沒有反矩陣，建議改用\n",
        "try:\n",
        "  inv=np.linalg.inv(B)\n",
        "except np.linalg.LinAlgError:\n",
        "  print('不可逆矩陣')"
      ],
      "metadata": {
        "id": "52d9841tLfva"
      },
      "execution_count": 16,
      "outputs": []
    },
    {
      "cell_type": "code",
      "source": [
        "#轉置對一維陣列沒用\n",
        "arr=np.array([1,2,3]) #一維陣列\n",
        "print(arr.transpose())\n",
        "arr=np.array([[1,2,3]]) #二維陣列\n",
        "print(arr.transpose())"
      ],
      "metadata": {
        "colab": {
          "base_uri": "https://localhost:8080/"
        },
        "id": "EWwGbQzQLvGh",
        "outputId": "42d217ca-8d27-4767-86ab-22008ae10f0c"
      },
      "execution_count": 17,
      "outputs": [
        {
          "output_type": "stream",
          "name": "stdout",
          "text": [
            "[1 2 3]\n",
            "[[1]\n",
            " [2]\n",
            " [3]]\n"
          ]
        }
      ]
    },
    {
      "cell_type": "code",
      "source": [
        "#拉平矩陣\n",
        "A=np.array([[1,2,3],[4,5,6]])\n",
        "A.flatten()#得到一維陣列"
      ],
      "metadata": {
        "colab": {
          "base_uri": "https://localhost:8080/"
        },
        "id": "TG7D2tdwL-YI",
        "outputId": "e8ac7cac-63ac-44d5-be99-e06804087c29"
      },
      "execution_count": 18,
      "outputs": [
        {
          "output_type": "execute_result",
          "data": {
            "text/plain": [
              "array([1, 2, 3, 4, 5, 6])"
            ]
          },
          "metadata": {},
          "execution_count": 18
        }
      ]
    },
    {
      "cell_type": "code",
      "source": [
        "#得到二維陣列，-1代表自動使用所需的最大值\n",
        "A.reshape(1,-1)"
      ],
      "metadata": {
        "colab": {
          "base_uri": "https://localhost:8080/"
        },
        "id": "W8wstNDcMP9g",
        "outputId": "576c50cc-c877-4a26-a975-6b7214ac5d75"
      },
      "execution_count": 19,
      "outputs": [
        {
          "output_type": "execute_result",
          "data": {
            "text/plain": [
              "array([[1, 2, 3, 4, 5, 6]])"
            ]
          },
          "metadata": {},
          "execution_count": 19
        }
      ]
    },
    {
      "cell_type": "code",
      "source": [
        "#找最大最小值、平均值、變異數、標準差\n",
        "print(np.min(A))\n",
        "print(np.max(A))\n",
        "print(np.mean(A))\n",
        "print(np.var(A))\n",
        "print(np.std(A))"
      ],
      "metadata": {
        "colab": {
          "base_uri": "https://localhost:8080/"
        },
        "id": "jhLio2wmMhzA",
        "outputId": "09ccf8b8-654d-4938-cda8-62f84d8d4c30"
      },
      "execution_count": 20,
      "outputs": [
        {
          "output_type": "stream",
          "name": "stdout",
          "text": [
            "1\n",
            "6\n",
            "3.5\n",
            "2.9166666666666665\n",
            "1.707825127659933\n"
          ]
        }
      ]
    },
    {
      "cell_type": "code",
      "source": [],
      "metadata": {
        "id": "QMVr7wnOMw9o"
      },
      "execution_count": null,
      "outputs": []
    }
  ]
}
